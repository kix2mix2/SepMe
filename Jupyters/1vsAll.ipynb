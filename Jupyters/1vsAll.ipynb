{
 "cells": [
  {
   "cell_type": "code",
   "execution_count": 1,
   "metadata": {},
   "outputs": [],
   "source": [
    "%load_ext autoreload"
   ]
  },
  {
   "cell_type": "code",
   "execution_count": 2,
   "metadata": {},
   "outputs": [],
   "source": [
    "%autoreload 2\n",
    "%matplotlib inline"
   ]
  },
  {
   "cell_type": "code",
   "execution_count": 3,
   "metadata": {},
   "outputs": [
    {
     "name": "stderr",
     "output_type": "stream",
     "text": [
      "SepMe - INFO - MLFLOW_TRACKING_URI - http://localhost:5000\n"
     ]
    },
    {
     "name": "stdout",
     "output_type": "stream",
     "text": [
      "Number of processors:  8\n"
     ]
    },
    {
     "data": {
      "text/plain": [
       "'/Users/morarica/Developer/SepMe/Jupyters'"
      ]
     },
     "execution_count": 3,
     "metadata": {},
     "output_type": "execute_result"
    }
   ],
   "source": [
    "import ray\n",
    "\n",
    "import pandas as pd \n",
    "import numpy as np\n",
    "import os\n",
    "import psutil\n",
    "\n",
    "from SepMe.processing.preprocessing import preprocess_df, plot_colored_circles\n",
    "import matplotlib.pyplot as plt \n",
    "\n",
    "\n",
    "print(\"Number of processors: \", psutil.cpu_count())\n",
    "os.getcwd()"
   ]
  },
  {
   "cell_type": "code",
   "execution_count": 4,
   "metadata": {},
   "outputs": [
    {
     "name": "stderr",
     "output_type": "stream",
     "text": [
      "2020-01-14 15:16:53,340\tINFO resource_spec.py:216 -- Starting Ray with 4.15 GiB memory available for workers and up to 2.09 GiB for objects. You can adjust these settings with ray.init(memory=<bytes>, object_store_memory=<bytes>).\n"
     ]
    },
    {
     "data": {
      "text/plain": [
       "{'node_ip_address': '129.69.205.80',\n",
       " 'redis_address': '129.69.205.80:48810',\n",
       " 'object_store_address': '/tmp/ray/session_2020-01-14_15-16-53_332403_21222/sockets/plasma_store',\n",
       " 'raylet_socket_name': '/tmp/ray/session_2020-01-14_15-16-53_332403_21222/sockets/raylet',\n",
       " 'webui_url': None,\n",
       " 'session_dir': '/tmp/ray/session_2020-01-14_15-16-53_332403_21222'}"
      ]
     },
     "execution_count": 4,
     "metadata": {},
     "output_type": "execute_result"
    }
   ],
   "source": [
    "ray.init(num_cpus=psutil.cpu_count())"
   ]
  },
  {
   "cell_type": "code",
   "execution_count": 5,
   "metadata": {},
   "outputs": [],
   "source": [
    "@ray.remote\n",
    "def process_1v1(path, file, i, l):\n",
    "\n",
    "    df = pd.read_csv(path + 'data/' + file) \n",
    "    ff = path + 'figures_1v11/' + file.split('.csv')[0] + '_0.png'\n",
    "\n",
    "#     if os.path.exists(ff):\n",
    "#         print('Skipping: {} {}/{}'.format(file, i,l))\n",
    "#         # print('Skipping file.... {}'.format(file))\n",
    "#         return 0\n",
    "        \n",
    "    \n",
    "    df1, circles = preprocess_df(df, ['x', 'y'], size = 0.5, \n",
    "                                            occlusion = 0.1, save=None, sort=True)\n",
    "    \n",
    "    \n",
    "    if len(df1) == len(df):\n",
    "        print(file)\n",
    "    \n",
    "    ddf = pd.get_dummies(df1['class'])\n",
    "    \n",
    "    #print(df1.shape)\n",
    "    #print(ddf.shape)\n",
    "    df1 = pd.concat([df1,ddf], axis=1)\n",
    "    #print(df1.shape)\n",
    "\n",
    "    for cc in ddf.columns:\n",
    "        #print(cc)\n",
    "        fig_name = path + 'figures_1v11/' + file.split('.csv')[0] + '_{}'.format(cc) + '.png'\n",
    "        \n",
    "        \n",
    "        if os.path.exists(ff):\n",
    "            # print('Skipping: {} {}/{}'.format(file, i,l))\n",
    "            # print('Skipping file.... {}'.format(file))\n",
    "            continue\n",
    "\n",
    "        df2 = df1.copy()\n",
    "        df2.drop(['class'],axis=1, inplace=True)\n",
    "\n",
    "\n",
    "\n",
    "        #df2['class'] = 0 \n",
    "        df2['class'] = df2[cc]\n",
    "        #print(df2)\n",
    "\n",
    "        fig, ax = plt.subplots(figsize = (10,10))\n",
    "        plot_colored_circles(ax, df2, circles, specific_colors = int(cc))\n",
    "        fig.savefig(fig_name)\n",
    "        plt.close('all')\n",
    "    \n",
    "    print('Finished Processing: {} {}/{}'.format(file, i,l))\n",
    "    return 1"
   ]
  },
  {
   "cell_type": "code",
   "execution_count": 6,
   "metadata": {
    "scrolled": false
   },
   "outputs": [
    {
     "name": "stdout",
     "output_type": "stream",
     "text": [
      "\u001b[2m\u001b[36m(pid=21241)\u001b[0m SepMe - INFO - MLFLOW_TRACKING_URI - http://localhost:5000\n",
      "\u001b[2m\u001b[36m(pid=21240)\u001b[0m SepMe - INFO - MLFLOW_TRACKING_URI - http://localhost:5000\n",
      "\u001b[2m\u001b[36m(pid=21237)\u001b[0m SepMe - INFO - MLFLOW_TRACKING_URI - http://localhost:5000\n",
      "\u001b[2m\u001b[36m(pid=21242)\u001b[0m SepMe - INFO - MLFLOW_TRACKING_URI - http://localhost:5000\n",
      "\u001b[2m\u001b[36m(pid=21238)\u001b[0m SepMe - INFO - MLFLOW_TRACKING_URI - http://localhost:5000\n",
      "\u001b[2m\u001b[36m(pid=21239)\u001b[0m SepMe - INFO - MLFLOW_TRACKING_URI - http://localhost:5000\n",
      "\u001b[2m\u001b[36m(pid=21244)\u001b[0m SepMe - INFO - MLFLOW_TRACKING_URI - http://localhost:5000\n",
      "\u001b[2m\u001b[36m(pid=21243)\u001b[0m SepMe - INFO - MLFLOW_TRACKING_URI - http://localhost:5000\n",
      "\u001b[2m\u001b[36m(pid=21243)\u001b[0m Finished Processing: grid6_4d_RobPCA_1-2.csv 6/126\n",
      "\u001b[2m\u001b[36m(pid=21239)\u001b[0m Finished Processing: iris_RobPCA_1-2.csv 4/126\n",
      "\u001b[2m\u001b[36m(pid=21244)\u001b[0m Finished Processing: tse300_tSNE_1-2.csv 1/126\n",
      "\u001b[2m\u001b[36m(pid=21240)\u001b[0m Finished Processing: ms_interleaved_60_120_3d_25_centeredClusters_tSNE_1-2.csv 2/126\n",
      "\u001b[2m\u001b[36m(pid=21243)\u001b[0m Finished Processing: tse300_RobPCA_1-2.csv 8/126\n",
      "\u001b[2m\u001b[36m(pid=21243)\u001b[0m Finished Processing: n100-d5-c3-spr0.2-out0_tSNE_1-2.csv 12/126\n",
      "\u001b[2m\u001b[36m(pid=21242)\u001b[0m Finished Processing: olive_tSNE_1-2.csv 5/126\n",
      "\u001b[2m\u001b[36m(pid=21243)\u001b[0m Finished Processing: ms_interleaved_40_80_3d_50_RobPCA_1-2.csv 13/126\n",
      "\u001b[2m\u001b[36m(pid=21242)\u001b[0m Finished Processing: n100-d5-c3-spr0.1-out0_GlimmerMDS_1-2.csv 14/126\n",
      "\u001b[2m\u001b[36m(pid=21239)\u001b[0m Finished Processing: olive_RobPCA_1-2.csv 9/126\n",
      "\u001b[2m\u001b[36m(pid=21242)\u001b[0m Finished Processing: hiv_GlimmerMDS_1-2.csv 16/126\n",
      "\u001b[2m\u001b[36m(pid=21241)\u001b[0m Finished Processing: interleaved_100_200_6d_0_notcramped_notrotated_PCA_1-2.csv 7/126\n",
      "\u001b[2m\u001b[36m(pid=21243)\u001b[0m Finished Processing: iris_tSNE_1-2.csv 15/126\n",
      "\u001b[2m\u001b[36m(pid=21240)\u001b[0m Finished Processing: interleaved_100_200_4d_25_cramped_rotated_tSNE_1-2.csv 11/126\n",
      "\u001b[2m\u001b[36m(pid=21244)\u001b[0m Finished Processing: interleaved_100_200_5d_25_cramped_rotated_PCA_1-2.csv 10/126\n",
      "\u001b[2m\u001b[36m(pid=21243)\u001b[0m Finished Processing: fisheries_clusteredByHarvestRule_tSNE_1-2.csv 19/126\n",
      "\u001b[2m\u001b[36m(pid=21241)\u001b[0m Finished Processing: world_11d_GlimmerMDS_1-2.csv 20/126\n",
      "\u001b[2m\u001b[36m(pid=21238)\u001b[0m Finished Processing: grid10_3d_RobPCA_1-2.csv 0/126\n",
      "\u001b[2m\u001b[36m(pid=21244)\u001b[0m Finished Processing: iris_PCA_1-2.csv 22/126\n",
      "\u001b[2m\u001b[36m(pid=21242)\u001b[0m Finished Processing: JavierGeneratedData_3dinterleaved_5classes_RobPCA_1-2.csv 18/126\n",
      "\u001b[2m\u001b[36m(pid=21242)\u001b[0m Finished Processing: cereal_PCA_1-2.csv 27/126\n",
      "\u001b[2m\u001b[36m(pid=21240)\u001b[0m Finished Processing: n500-d10-c5-spr0.1-out0_tSNE_1-2.csv 21/126\n",
      "\u001b[2m\u001b[36m(pid=21240)\u001b[0m Finished Processing: world_11d_tSNE_1-2.csv 28/126\n",
      "\u001b[2m\u001b[36m(pid=21239)\u001b[0m Finished Processing: grid10_3d_tSNE_1-2.csv 17/126\n",
      "\u001b[2m\u001b[36m(pid=21240)\u001b[0m Finished Processing: twosquare_PCA_1-2.csv 30/126\n",
      "\u001b[2m\u001b[36m(pid=21238)\u001b[0m Finished Processing: interleaved_100_200_10d_0_notcramped_notrotated_PCA_1-2.csv 25/126\n",
      "\u001b[2m\u001b[36m(pid=21241)\u001b[0m Finished Processing: interleaved_100_200_10d_0_notcramped_notrotated_tSNE_1-2.csv 24/126\n",
      "\u001b[2m\u001b[36m(pid=21241)\u001b[0m Finished Processing: italianwines_PCA_1-2.csv 34/126\n",
      "\u001b[2m\u001b[36m(pid=21241)\u001b[0m Finished Processing: tse300_PCA_1-2.csv 35/126\n",
      "\u001b[2m\u001b[36m(pid=21241)\u001b[0m Finished Processing: boston_tSNE_1-2.csv 36/126\n",
      "\u001b[2m\u001b[36m(pid=21241)\u001b[0m Finished Processing: cereal_tSNE_1-2.csv 37/126\n",
      "\u001b[2m\u001b[36m(pid=21239)\u001b[0m Finished Processing: interleaved_100_200_10d_25_cramped_rotated_tSNE_1-2.csv 31/126\n",
      "\u001b[2m\u001b[36m(pid=21243)\u001b[0m Finished Processing: efashion_GlimmerMDS_1-2.csv 23/126\n",
      "\u001b[2m\u001b[36m(pid=21244)\u001b[0m Finished Processing: interleaved_100_200_15d_25_cramped_rotated_GlimmerMDS_1-2.csv 26/126\n",
      "\u001b[2m\u001b[36m(pid=21242)\u001b[0m Finished Processing: interleaved_100_200_15d_0_notcramped_notrotated_tSNE_1-2.csv 29/126\n",
      "\u001b[2m\u001b[36m(pid=21242)\u001b[0m Finished Processing: olive_GlimmerMDS_1-2.csv 42/126\n",
      "\u001b[2m\u001b[36m(pid=21242)\u001b[0m Finished Processing: ms_interleaved_40_80_3d_0_RobPCA_1-2.csv 43/126\n",
      "\u001b[2m\u001b[36m(pid=21241)\u001b[0m Finished Processing: interleaved_100_200_10d_25_cramped_rotated_RobPCA_1-2.csv 38/126\n",
      "\u001b[2m\u001b[36m(pid=21238)\u001b[0m Finished Processing: interleaved_100_200_15d_0_notcramped_notrotated_RobPCA_1-2.csv 33/126\n",
      "\u001b[2m\u001b[36m(pid=21239)\u001b[0m Finished Processing: swanson_GlimmerMDS_1-2.csv 39/126\n",
      "\u001b[2m\u001b[36m(pid=21244)\u001b[0m Finished Processing: ms_interleaved_400_800_3d_50_RobPCA_1-2.csv 41/126\n",
      "\u001b[2m\u001b[36m(pid=21241)\u001b[0m Finished Processing: grid10_3d_GlimmerMDS_1-2.csv 45/126\n",
      "\u001b[2m\u001b[36m(pid=21239)\u001b[0m Finished Processing: n500-d10-c5-spr0.1-out0_RobPCA_1-2.csv 47/126\n",
      "\u001b[2m\u001b[36m(pid=21242)\u001b[0m Finished Processing: grid6_4d_tSNE_1-2.csv 44/126\n",
      "\u001b[2m\u001b[36m(pid=21242)\u001b[0m Finished Processing: n100-d5-c3-spr0.1-out0_tSNE_1-2.csv 51/126\n",
      "\u001b[2m\u001b[36m(pid=21238)\u001b[0m Finished Processing: grid6_4d_GlimmerMDS_1-2.csv 46/126\n",
      "\u001b[2m\u001b[36m(pid=21244)\u001b[0m Finished Processing: interleaved_100_200_5d_0_notcramped_notrotated_RobPCA_1-2.csv 48/126\n",
      "\u001b[2m\u001b[36m(pid=21238)\u001b[0m Finished Processing: worldmap_RobPCA_1-2.csv 53/126\n",
      "\u001b[2m\u001b[36m(pid=21244)\u001b[0m Finished Processing: n100-d10-c3-spr0.1-out0_PCA_1-2.csv 54/126\n",
      "\u001b[2m\u001b[36m(pid=21241)\u001b[0m Finished Processing: interleaved_100_200_5d_25_cramped_rotated_GlimmerMDS_1-2.csv 49/126\n",
      "\u001b[2m\u001b[36m(pid=21237)\u001b[0m Finished Processing: white_ballance_GlimmerMDS_1-2.csv 3/126\n",
      "\u001b[2m\u001b[36m(pid=21244)\u001b[0m Finished Processing: world_9d_PCA_1-2.csv 56/126\n",
      "\u001b[2m\u001b[36m(pid=21238)\u001b[0m Finished Processing: bbdm13_tSNE_1-2.csv 55/126\n",
      "\u001b[2m\u001b[36m(pid=21241)\u001b[0m Finished Processing: JavierGeneratedData_3dinterleaved_5classes_GlimmerMDS_1-2.csv 57/126\n",
      "\u001b[2m\u001b[36m(pid=21237)\u001b[0m Finished Processing: n500-d5-c3-spr0.1-out0_tSNE_1-2.csv 58/126\n",
      "\u001b[2m\u001b[36m(pid=21239)\u001b[0m Finished Processing: interleaved_100_200_6d_25_cramped_rotated_PCA_1-2.csv 50/126\n",
      "\u001b[2m\u001b[36m(pid=21241)\u001b[0m Finished Processing: worldmap_GlimmerMDS_1-2.csv 61/126\n",
      "\u001b[2m\u001b[36m(pid=21239)\u001b[0m Finished Processing: ms_interleaved_40_80_3d_0_GlimmerMDS_1-2.csv 63/126\n",
      "\u001b[2m\u001b[36m(pid=21242)\u001b[0m Finished Processing: yeast_PCA_1-2.csv 52/126\n",
      "\u001b[2m\u001b[36m(pid=21239)\u001b[0m Finished Processing: interleaved_100_200_6d_25_cramped_rotated_GlimmerMDS_1-2.csv 65/126\n",
      "\u001b[2m\u001b[36m(pid=21239)\u001b[0m Finished Processing: ms_interleaved_60_120_3d_50_centeredClusters_RobPCA_1-2.csv 67/126\n",
      "\u001b[2m\u001b[36m(pid=21239)\u001b[0m Finished Processing: n100-d10-c5-spr0.2-out0_tSNE_1-2.csv 68/126\n",
      "\u001b[2m\u001b[36m(pid=21237)\u001b[0m Finished Processing: ms_interleaved_400_800_3d_0_GlimmerMDS_1-2.csv 62/126\n",
      "\u001b[2m\u001b[36m(pid=21237)\u001b[0m Finished Processing: grid10_3d_PCA_1-2.csv 70/126\n",
      "\u001b[2m\u001b[36m(pid=21240)\u001b[0m Finished Processing: cars03Cropped_d3_RobPCA_1-2.csv 32/126\n",
      "\u001b[2m\u001b[36m(pid=21237)\u001b[0m Finished Processing: world_11d_RobPCA_1-2.csv 71/126\n",
      "\u001b[2m\u001b[36m(pid=21243)\u001b[0m Finished Processing: abalone_GlimmerMDS_1-2.csv 40/126\n",
      "\u001b[2m\u001b[36m(pid=21239)\u001b[0m Finished Processing: JavierGeneratedData_3dinterleaved_5classes_tSNE_1-2.csv 69/126\n",
      "\u001b[2m\u001b[36m(pid=21239)\u001b[0m Finished Processing: worldmap_PCA_1-2.csv 74/126\n",
      "\u001b[2m\u001b[36m(pid=21237)\u001b[0m Finished Processing: interleaved_100_200_4d_25_cramped_rotated_GlimmerMDS_1-2.csv 73/126\n",
      "\u001b[2m\u001b[36m(pid=21243)\u001b[0m Finished Processing: ms_interleaved_120_240_3d_25_centeredClusters_RobPCA_1-2.csv 75/126\n",
      "\u001b[2m\u001b[36m(pid=21237)\u001b[0m Finished Processing: ms_interleaved_120_240_3d_25_centeredClusters_tSNE_1-2.csv 77/126\n",
      "\u001b[2m\u001b[36m(pid=21243)\u001b[0m Finished Processing: ms_interleaved_60_120_3d_0_centeredClusters_tSNE_1-2.csv 78/126\n",
      "\u001b[2m\u001b[36m(pid=21239)\u001b[0m Finished Processing: interleaved_100_200_5d_0_notcramped_notrotated_GlimmerMDS_1-2.csv 76/126\n",
      "\u001b[2m\u001b[36m(pid=21237)\u001b[0m Finished Processing: world_11d_PCA_1-2.csv 79/126\n",
      "\u001b[2m\u001b[36m(pid=21239)\u001b[0m Finished Processing: wine_RobPCA_1-2.csv 81/126\n",
      "\u001b[2m\u001b[36m(pid=21237)\u001b[0m Finished Processing: ms_interleaved_60_120_3d_25_centeredClusters_PCA_1-2.csv 82/126\n",
      "\u001b[2m\u001b[36m(pid=21240)\u001b[0m Finished Processing: interleaved_100_200_10d_25_cramped_rotated_PCA_1-2.csv 72/126\n",
      "\u001b[2m\u001b[36m(pid=21242)\u001b[0m Finished Processing: efashion_PCA_1-2.csv 66/126\n",
      "\u001b[2m\u001b[36m(pid=21242)\u001b[0m Finished Processing: ms_interleaved_60_120_3d_0_centeredClusters_GlimmerMDS_1-2.csv 86/126\n",
      "\u001b[2m\u001b[36m(pid=21237)\u001b[0m Finished Processing: n500-d10-c5-spr0.1-out0_GlimmerMDS_1-2.csv 84/126\n",
      "\u001b[2m\u001b[36m(pid=21244)\u001b[0m Finished Processing: abalone_PCA_1-2.csv 59/126\n",
      "\u001b[2m\u001b[36m(pid=21240)\u001b[0m Finished Processing: n500-d5-c5-spr0.1-out0_RobPCA_1-2.csv 85/126\n"
     ]
    },
    {
     "name": "stdout",
     "output_type": "stream",
     "text": [
      "\u001b[2m\u001b[36m(pid=21242)\u001b[0m Finished Processing: ms_interleaved_60_120_3d_25_centeredClusters_GlimmerMDS_1-2.csv 87/126\n",
      "\u001b[2m\u001b[36m(pid=21242)\u001b[0m Finished Processing: boston_RobPCA_1-2.csv 91/126\n",
      "\u001b[2m\u001b[36m(pid=21244)\u001b[0m Finished Processing: JavierGeneratedData_3dinterleaved_4classes_RobPCA_1-2.csv 89/126\n",
      "\u001b[2m\u001b[36m(pid=21244)\u001b[0m Finished Processing: fisheries_clusteredByEscapementTarget_RobPCA_1-2.csv 92/126\n",
      "\u001b[2m\u001b[36m(pid=21240)\u001b[0m Finished Processing: JavierGeneratedData_3dinterleaved_3classes_GlimmerMDS_1-2.csv 90/126\n",
      "\u001b[2m\u001b[36m(pid=21244)\u001b[0m Finished Processing: fisheries_clusteredByEscapementTarget_GlimmerMDS_1-2.csv 94/126\n",
      "\u001b[2m\u001b[36m(pid=21240)\u001b[0m Finished Processing: boston_GlimmerMDS_1-2.csv 95/126\n",
      "\u001b[2m\u001b[36m(pid=21239)\u001b[0m Finished Processing: interleaved_100_200_10d_0_notcramped_notrotated_GlimmerMDS_1-2.csv 83/126\n",
      "\u001b[2m\u001b[36m(pid=21239)\u001b[0m Finished Processing: n100-d10-c3-spr0.2-out0_RobPCA_1-2.csv 98/126\n",
      "\u001b[2m\u001b[36m(pid=21242)\u001b[0m Finished Processing: interleaved_100_200_5d_25_cramped_rotated_tSNE_1-2.csv 93/126\n",
      "\u001b[2m\u001b[36m(pid=21244)\u001b[0m Finished Processing: n500-d5-c5-spr0.2-out0_tSNE_1-2.csv 96/126\n",
      "\u001b[2m\u001b[36m(pid=21239)\u001b[0m Finished Processing: n500-d5-c3-spr0.1-out0_GlimmerMDS_1-2.csv 99/126\n",
      "\u001b[2m\u001b[36m(pid=21243)\u001b[0m Finished Processing: interleaved_100_200_15d_25_cramped_rotated_PCA_1-2.csv 80/126\n",
      "\u001b[2m\u001b[36m(pid=21240)\u001b[0m Finished Processing: interleaved_250_500_3_0_notCramped_rotated_RobPCA_1-2.csv 97/126\n",
      "\u001b[2m\u001b[36m(pid=21244)\u001b[0m Finished Processing: interleaved_100_500_3_25_cramped_rotated_PCA_1-2.csv 101/126\n",
      "\u001b[2m\u001b[36m(pid=21240)\u001b[0m Finished Processing: n100-d5-c5-spr0.1-out0_PCA_1-2.csv 104/126\n",
      "\u001b[2m\u001b[36m(pid=21240)\u001b[0m Finished Processing: n100-d10-c3-spr0.1-out0_GlimmerMDS_1-2.csv 106/126\n",
      "\u001b[2m\u001b[36m(pid=21242)\u001b[0m Finished Processing: interleaved_250_500_3_0_notCramped_rotated_tSNE_1-2.csv 100/126\n",
      "\u001b[2m\u001b[36m(pid=21237)\u001b[0m Finished Processing: interleaved_100_200_15d_25_cramped_rotated_RobPCA_1-2.csv 88/126\n",
      "\u001b[2m\u001b[36m(pid=21244)\u001b[0m Finished Processing: n500-d10-c5-spr0.2-out0_GlimmerMDS_1-2.csv 105/126\n",
      "\u001b[2m\u001b[36m(pid=21238)\u001b[0m Finished Processing: cars03Cropped_d2_PCA_1-2.csv 60/126\n",
      "\u001b[2m\u001b[36m(pid=21242)\u001b[0m Finished Processing: interleaved_100_200_4d_25_cramped_rotated_RobPCA_1-2.csv 108/126\n",
      "\u001b[2m\u001b[36m(pid=21238)\u001b[0m Finished Processing: n100-d10-c5-spr0.1-out0_tSNE_1-2.csv 112/126\n",
      "\u001b[2m\u001b[36m(pid=21238)\u001b[0m Finished Processing: n100-d5-c3-spr0.2-out0_PCA_1-2.csv 113/126\n",
      "\u001b[2m\u001b[36m(pid=21238)\u001b[0m Finished Processing: bbdm13_PCA_1-2.csv 114/126\n",
      "\u001b[2m\u001b[36m(pid=21242)\u001b[0m Finished Processing: interleaved_100_200_6d_25_cramped_rotated_tSNE_1-2.csv 111/126\n",
      "\u001b[2m\u001b[36m(pid=21242)\u001b[0m Finished Processing: iris_GlimmerMDS_1-2.csv 116/126\n",
      "\u001b[2m\u001b[36m(pid=21242)\u001b[0m Finished Processing: ms_interleaved_60_120_3d_25_centeredClusters_RobPCA_1-2.csv 117/126\n",
      "\u001b[2m\u001b[36m(pid=21240)\u001b[0m Finished Processing: interleaved_100_200_15d_0_notcramped_notrotated_PCA_1-2.csv 107/126\n",
      "\u001b[2m\u001b[36m(pid=21237)\u001b[0m Finished Processing: ms_interleaved_400_800_3d_50_PCA_1-2.csv 109/126\n",
      "\u001b[2m\u001b[36m(pid=21238)\u001b[0m Finished Processing: interleaved_100_200_4d_0_notcramped_notrotated_PCA_1-2.csv 115/126\n",
      "\u001b[2m\u001b[36m(pid=21244)\u001b[0m Finished Processing: ms_interleaved_400_800_3d_0_tSNE_1-2.csv 110/126\n",
      "\u001b[2m\u001b[36m(pid=21238)\u001b[0m Finished Processing: italianwines_RobPCA_1-2.csv 121/126\n",
      "\u001b[2m\u001b[36m(pid=21242)\u001b[0m Finished Processing: n500-d5-c3-spr0.1-out0_RobPCA_1-2.csv 118/126\n",
      "\u001b[2m\u001b[36m(pid=21239)\u001b[0m Finished Processing: white_ballance_RobPCA_1-2.csv 102/126\n",
      "\u001b[2m\u001b[36m(pid=21240)\u001b[0m Finished Processing: interleaved_100_200_6d_0_notcramped_notrotated_tSNE_1-2.csv 119/126\n",
      "\u001b[2m\u001b[36m(pid=21238)\u001b[0m Finished Processing: n500-d5-c3-spr0.1-out0_PCA_1-2.csv 123/126\n",
      "\u001b[2m\u001b[36m(pid=21239)\u001b[0m Finished Processing: fisheries_clusteredByEscapementTarget_tSNE_1-2.csv 125/126\n",
      "\u001b[2m\u001b[36m(pid=21242)\u001b[0m Finished Processing: n500-d10-c3-spr0.1-out0_tSNE_1-2.csv 124/126\n",
      "\u001b[2m\u001b[36m(pid=21241)\u001b[0m Finished Processing: cars03Cropped_d2_RobPCA_1-2.csv 64/126\n",
      "\u001b[2m\u001b[36m(pid=21244)\u001b[0m Finished Processing: interleaved_100_200_4d_0_notcramped_notrotated_tSNE_1-2.csv 122/126\n",
      "\u001b[2m\u001b[36m(pid=21243)\u001b[0m Finished Processing: cars03Cropped_d3_PCA_1-2.csv 103/126\n",
      "\u001b[2m\u001b[36m(pid=21237)\u001b[0m Finished Processing: white_ballance_PCA_1-2.csv 120/126\n"
     ]
    }
   ],
   "source": [
    "path = '../data/mturk_samples/task/'\n",
    "\n",
    "if not os.path.exists(path + 'figures_1v11'):\n",
    "        os.makedirs(path + 'figures_1v11')\n",
    "        \n",
    "l = len(os.listdir(path + 'data/'))\n",
    "for i, file in enumerate(os.listdir(path + 'data/')):\n",
    "    if file.endswith('.csv'):\n",
    "        process_1v1.remote(path, file, i, l)"
   ]
  },
  {
   "cell_type": "code",
   "execution_count": 8,
   "metadata": {},
   "outputs": [],
   "source": [
    "import boto3\n",
    "\n",
    "path = '../data/mturk_samples/task/'\n",
    "\n",
    "\n",
    "files = []\n",
    "idx = []\n",
    "\n",
    "s3 = boto3.resource(\"s3\")\n",
    "\n",
    "for file in os.listdir(path + 'figures_1v11'):\n",
    "    if file.endswith('.png'):\n",
    "        files.append(\"https://scatterplots.s3.eu-central-1.amazonaws.com/sample_1v1/\" + file)\n",
    "        idx.append(int(file.split('.png')[0].split('_')[-1]))\n",
    "        \n",
    "        s3.meta.client.upload_file(\n",
    "                    Filename=path + 'figures_1v11/' + file,\n",
    "                    Bucket='scatterplots',\n",
    "                    Key=\"sample_1v1/\" + file\n",
    "            ,\n",
    "                )\n",
    "        \n",
    "        \n",
    "df = pd.DataFrame({'image_url':files, 'i':idx})\n",
    "df.loc[df.i<4,:].to_csv(path + 'index_1v1.csv', index=False)"
   ]
  },
  {
   "cell_type": "code",
   "execution_count": 14,
   "metadata": {},
   "outputs": [
    {
     "data": {
      "text/plain": [
       "366.40000000000003"
      ]
     },
     "execution_count": 14,
     "metadata": {},
     "output_type": "execute_result"
    }
   ],
   "source": [
    "len(df.loc[df.i<4,:])*2*20*0.02"
   ]
  },
  {
   "cell_type": "code",
   "execution_count": 9,
   "metadata": {},
   "outputs": [
    {
     "data": {
      "text/html": [
       "<div>\n",
       "<style scoped>\n",
       "    .dataframe tbody tr th:only-of-type {\n",
       "        vertical-align: middle;\n",
       "    }\n",
       "\n",
       "    .dataframe tbody tr th {\n",
       "        vertical-align: top;\n",
       "    }\n",
       "\n",
       "    .dataframe thead th {\n",
       "        text-align: right;\n",
       "    }\n",
       "</style>\n",
       "<table border=\"1\" class=\"dataframe\">\n",
       "  <thead>\n",
       "    <tr style=\"text-align: right;\">\n",
       "      <th></th>\n",
       "      <th>image_url</th>\n",
       "      <th>i</th>\n",
       "    </tr>\n",
       "  </thead>\n",
       "  <tbody>\n",
       "    <tr>\n",
       "      <th>1</th>\n",
       "      <td>https://scatterplots.s3.eu-central-1.amazonaws...</td>\n",
       "      <td>0</td>\n",
       "    </tr>\n",
       "    <tr>\n",
       "      <th>2</th>\n",
       "      <td>https://scatterplots.s3.eu-central-1.amazonaws...</td>\n",
       "      <td>3</td>\n",
       "    </tr>\n",
       "    <tr>\n",
       "      <th>3</th>\n",
       "      <td>https://scatterplots.s3.eu-central-1.amazonaws...</td>\n",
       "      <td>2</td>\n",
       "    </tr>\n",
       "    <tr>\n",
       "      <th>4</th>\n",
       "      <td>https://scatterplots.s3.eu-central-1.amazonaws...</td>\n",
       "      <td>3</td>\n",
       "    </tr>\n",
       "    <tr>\n",
       "      <th>5</th>\n",
       "      <td>https://scatterplots.s3.eu-central-1.amazonaws...</td>\n",
       "      <td>1</td>\n",
       "    </tr>\n",
       "    <tr>\n",
       "      <th>...</th>\n",
       "      <td>...</td>\n",
       "      <td>...</td>\n",
       "    </tr>\n",
       "    <tr>\n",
       "      <th>701</th>\n",
       "      <td>https://scatterplots.s3.eu-central-1.amazonaws...</td>\n",
       "      <td>2</td>\n",
       "    </tr>\n",
       "    <tr>\n",
       "      <th>702</th>\n",
       "      <td>https://scatterplots.s3.eu-central-1.amazonaws...</td>\n",
       "      <td>0</td>\n",
       "    </tr>\n",
       "    <tr>\n",
       "      <th>703</th>\n",
       "      <td>https://scatterplots.s3.eu-central-1.amazonaws...</td>\n",
       "      <td>3</td>\n",
       "    </tr>\n",
       "    <tr>\n",
       "      <th>704</th>\n",
       "      <td>https://scatterplots.s3.eu-central-1.amazonaws...</td>\n",
       "      <td>1</td>\n",
       "    </tr>\n",
       "    <tr>\n",
       "      <th>705</th>\n",
       "      <td>https://scatterplots.s3.eu-central-1.amazonaws...</td>\n",
       "      <td>2</td>\n",
       "    </tr>\n",
       "  </tbody>\n",
       "</table>\n",
       "<p>458 rows × 2 columns</p>\n",
       "</div>"
      ],
      "text/plain": [
       "                                             image_url  i\n",
       "1    https://scatterplots.s3.eu-central-1.amazonaws...  0\n",
       "2    https://scatterplots.s3.eu-central-1.amazonaws...  3\n",
       "3    https://scatterplots.s3.eu-central-1.amazonaws...  2\n",
       "4    https://scatterplots.s3.eu-central-1.amazonaws...  3\n",
       "5    https://scatterplots.s3.eu-central-1.amazonaws...  1\n",
       "..                                                 ... ..\n",
       "701  https://scatterplots.s3.eu-central-1.amazonaws...  2\n",
       "702  https://scatterplots.s3.eu-central-1.amazonaws...  0\n",
       "703  https://scatterplots.s3.eu-central-1.amazonaws...  3\n",
       "704  https://scatterplots.s3.eu-central-1.amazonaws...  1\n",
       "705  https://scatterplots.s3.eu-central-1.amazonaws...  2\n",
       "\n",
       "[458 rows x 2 columns]"
      ]
     },
     "execution_count": 9,
     "metadata": {},
     "output_type": "execute_result"
    }
   ],
   "source": [
    "df.loc[df.i<4,:]"
   ]
  },
  {
   "cell_type": "code",
   "execution_count": null,
   "metadata": {},
   "outputs": [],
   "source": []
  }
 ],
 "metadata": {
  "kernelspec": {
   "display_name": "Python 3",
   "language": "python",
   "name": "python3"
  },
  "language_info": {
   "codemirror_mode": {
    "name": "ipython",
    "version": 3
   },
   "file_extension": ".py",
   "mimetype": "text/x-python",
   "name": "python",
   "nbconvert_exporter": "python",
   "pygments_lexer": "ipython3",
   "version": "3.7.4"
  }
 },
 "nbformat": 4,
 "nbformat_minor": 2
}
