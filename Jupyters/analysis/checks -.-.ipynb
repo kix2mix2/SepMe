{
 "cells": [
  {
   "cell_type": "code",
   "execution_count": 1,
   "metadata": {},
   "outputs": [],
   "source": [
    "%load_ext autoreload"
   ]
  },
  {
   "cell_type": "code",
   "execution_count": 2,
   "metadata": {},
   "outputs": [],
   "source": [
    "%autoreload 2\n",
    "%matplotlib inline"
   ]
  },
  {
   "cell_type": "code",
   "execution_count": 3,
   "metadata": {},
   "outputs": [
    {
     "name": "stderr",
     "output_type": "stream",
     "text": [
      "SepMe - INFO - MLFLOW_TRACKING_URI - http://localhost:5000\n"
     ]
    }
   ],
   "source": [
    "import pandas as pd\n",
    "import os\n",
    "import matplotlib.pyplot as plt\n",
    "from SepMe.utils.graph_neighbourhoods import *\n",
    "from SepMe.utils.graph_purity import *\n",
    "\n",
    "os.getcwd()\n",
    "folder = '../../'\n",
    "df = pd.read_csv(folder + 'heyhey.csv',index_col=0)\n",
    "pointIDXY = dict(zip(range(len(df[['x','y']])), np.array(df[['x','y']])))"
   ]
  },
  {
   "cell_type": "code",
   "execution_count": 6,
   "metadata": {},
   "outputs": [
    {
     "name": "stdout",
     "output_type": "stream",
     "text": [
      "{0, 1, 2}\n"
     ]
    },
    {
     "data": {
      "text/html": [
       "<div>\n",
       "<style scoped>\n",
       "    .dataframe tbody tr th:only-of-type {\n",
       "        vertical-align: middle;\n",
       "    }\n",
       "\n",
       "    .dataframe tbody tr th {\n",
       "        vertical-align: top;\n",
       "    }\n",
       "\n",
       "    .dataframe thead th {\n",
       "        text-align: right;\n",
       "    }\n",
       "</style>\n",
       "<table border=\"1\" class=\"dataframe\">\n",
       "  <thead>\n",
       "    <tr style=\"text-align: right;\">\n",
       "      <th></th>\n",
       "      <th>x</th>\n",
       "      <th>y</th>\n",
       "      <th>class</th>\n",
       "      <th>orig_class</th>\n",
       "      <th>pos</th>\n",
       "      <th>mv_true</th>\n",
       "      <th>mv_false</th>\n",
       "      <th>neighbours</th>\n",
       "      <th>ce</th>\n",
       "      <th>cp</th>\n",
       "      <th>nns</th>\n",
       "    </tr>\n",
       "  </thead>\n",
       "  <tbody>\n",
       "    <tr>\n",
       "      <td>0</td>\n",
       "      <td>0.000000</td>\n",
       "      <td>0.187980</td>\n",
       "      <td>0</td>\n",
       "      <td>0</td>\n",
       "      <td>(0.0, 0.1879798726972548)</td>\n",
       "      <td>1.0</td>\n",
       "      <td>1.0</td>\n",
       "      <td>5</td>\n",
       "      <td>0.00000</td>\n",
       "      <td>1.0</td>\n",
       "      <td>[0, 0, 0, 0, 0]</td>\n",
       "    </tr>\n",
       "    <tr>\n",
       "      <td>1</td>\n",
       "      <td>0.000562</td>\n",
       "      <td>0.492543</td>\n",
       "      <td>0</td>\n",
       "      <td>0</td>\n",
       "      <td>(0.0005621476382362545, 0.4925431108447794)</td>\n",
       "      <td>1.0</td>\n",
       "      <td>1.0</td>\n",
       "      <td>5</td>\n",
       "      <td>0.00000</td>\n",
       "      <td>1.0</td>\n",
       "      <td>[0, 0, 0, 0, 0]</td>\n",
       "    </tr>\n",
       "    <tr>\n",
       "      <td>2</td>\n",
       "      <td>0.002041</td>\n",
       "      <td>0.057970</td>\n",
       "      <td>0</td>\n",
       "      <td>0</td>\n",
       "      <td>(0.0020409918661411512, 0.057969767683483324)</td>\n",
       "      <td>1.0</td>\n",
       "      <td>1.0</td>\n",
       "      <td>5</td>\n",
       "      <td>0.00000</td>\n",
       "      <td>1.0</td>\n",
       "      <td>[0, 0, 0, 0, 0]</td>\n",
       "    </tr>\n",
       "    <tr>\n",
       "      <td>3</td>\n",
       "      <td>0.003542</td>\n",
       "      <td>0.035999</td>\n",
       "      <td>0</td>\n",
       "      <td>0</td>\n",
       "      <td>(0.0035420762441208398, 0.035998989770691436)</td>\n",
       "      <td>1.0</td>\n",
       "      <td>1.0</td>\n",
       "      <td>5</td>\n",
       "      <td>0.00000</td>\n",
       "      <td>1.0</td>\n",
       "      <td>[0, 0, 0, 0, 0]</td>\n",
       "    </tr>\n",
       "    <tr>\n",
       "      <td>4</td>\n",
       "      <td>0.005683</td>\n",
       "      <td>0.763047</td>\n",
       "      <td>0</td>\n",
       "      <td>0</td>\n",
       "      <td>(0.005683202679338084, 0.7630468093824103)</td>\n",
       "      <td>1.0</td>\n",
       "      <td>1.0</td>\n",
       "      <td>5</td>\n",
       "      <td>0.00000</td>\n",
       "      <td>1.0</td>\n",
       "      <td>[0, 0, 0, 0, 0]</td>\n",
       "    </tr>\n",
       "    <tr>\n",
       "      <td>...</td>\n",
       "      <td>...</td>\n",
       "      <td>...</td>\n",
       "      <td>...</td>\n",
       "      <td>...</td>\n",
       "      <td>...</td>\n",
       "      <td>...</td>\n",
       "      <td>...</td>\n",
       "      <td>...</td>\n",
       "      <td>...</td>\n",
       "      <td>...</td>\n",
       "      <td>...</td>\n",
       "    </tr>\n",
       "    <tr>\n",
       "      <td>120</td>\n",
       "      <td>0.994285</td>\n",
       "      <td>0.927208</td>\n",
       "      <td>1</td>\n",
       "      <td>1</td>\n",
       "      <td>(0.9942852299606366, 0.9272078983071694)</td>\n",
       "      <td>0.0</td>\n",
       "      <td>1.0</td>\n",
       "      <td>5</td>\n",
       "      <td>0.92062</td>\n",
       "      <td>0.4</td>\n",
       "      <td>[0, 0, 2, 1, 1]</td>\n",
       "    </tr>\n",
       "    <tr>\n",
       "      <td>121</td>\n",
       "      <td>0.996615</td>\n",
       "      <td>0.065742</td>\n",
       "      <td>1</td>\n",
       "      <td>1</td>\n",
       "      <td>(0.996614970114484, 0.06574194222247981)</td>\n",
       "      <td>0.0</td>\n",
       "      <td>0.0</td>\n",
       "      <td>5</td>\n",
       "      <td>1.00000</td>\n",
       "      <td>0.2</td>\n",
       "      <td>[2, 2, 0, 0, 1]</td>\n",
       "    </tr>\n",
       "    <tr>\n",
       "      <td>122</td>\n",
       "      <td>0.996685</td>\n",
       "      <td>0.524171</td>\n",
       "      <td>1</td>\n",
       "      <td>1</td>\n",
       "      <td>(0.9966851972507292, 0.5241707727486623)</td>\n",
       "      <td>1.0</td>\n",
       "      <td>1.0</td>\n",
       "      <td>5</td>\n",
       "      <td>0.57938</td>\n",
       "      <td>0.6</td>\n",
       "      <td>[1, 2, 2, 1, 1]</td>\n",
       "    </tr>\n",
       "    <tr>\n",
       "      <td>123</td>\n",
       "      <td>0.999767</td>\n",
       "      <td>0.506035</td>\n",
       "      <td>1</td>\n",
       "      <td>1</td>\n",
       "      <td>(0.9997669347245486, 0.5060348567742153)</td>\n",
       "      <td>1.0</td>\n",
       "      <td>1.0</td>\n",
       "      <td>5</td>\n",
       "      <td>0.57938</td>\n",
       "      <td>0.6</td>\n",
       "      <td>[1, 2, 2, 1, 1]</td>\n",
       "    </tr>\n",
       "    <tr>\n",
       "      <td>124</td>\n",
       "      <td>1.000000</td>\n",
       "      <td>0.366006</td>\n",
       "      <td>2</td>\n",
       "      <td>2</td>\n",
       "      <td>(1.0, 0.3660057827790463)</td>\n",
       "      <td>1.0</td>\n",
       "      <td>1.0</td>\n",
       "      <td>5</td>\n",
       "      <td>0.78969</td>\n",
       "      <td>0.6</td>\n",
       "      <td>[0, 2, 2, 1, 2]</td>\n",
       "    </tr>\n",
       "  </tbody>\n",
       "</table>\n",
       "<p>125 rows × 11 columns</p>\n",
       "</div>"
      ],
      "text/plain": [
       "            x         y  class  orig_class  \\\n",
       "0    0.000000  0.187980      0           0   \n",
       "1    0.000562  0.492543      0           0   \n",
       "2    0.002041  0.057970      0           0   \n",
       "3    0.003542  0.035999      0           0   \n",
       "4    0.005683  0.763047      0           0   \n",
       "..        ...       ...    ...         ...   \n",
       "120  0.994285  0.927208      1           1   \n",
       "121  0.996615  0.065742      1           1   \n",
       "122  0.996685  0.524171      1           1   \n",
       "123  0.999767  0.506035      1           1   \n",
       "124  1.000000  0.366006      2           2   \n",
       "\n",
       "                                               pos  mv_true  mv_false  \\\n",
       "0                        (0.0, 0.1879798726972548)      1.0       1.0   \n",
       "1      (0.0005621476382362545, 0.4925431108447794)      1.0       1.0   \n",
       "2    (0.0020409918661411512, 0.057969767683483324)      1.0       1.0   \n",
       "3    (0.0035420762441208398, 0.035998989770691436)      1.0       1.0   \n",
       "4       (0.005683202679338084, 0.7630468093824103)      1.0       1.0   \n",
       "..                                             ...      ...       ...   \n",
       "120       (0.9942852299606366, 0.9272078983071694)      0.0       1.0   \n",
       "121       (0.996614970114484, 0.06574194222247981)      0.0       0.0   \n",
       "122       (0.9966851972507292, 0.5241707727486623)      1.0       1.0   \n",
       "123       (0.9997669347245486, 0.5060348567742153)      1.0       1.0   \n",
       "124                      (1.0, 0.3660057827790463)      1.0       1.0   \n",
       "\n",
       "     neighbours       ce   cp              nns  \n",
       "0             5  0.00000  1.0  [0, 0, 0, 0, 0]  \n",
       "1             5  0.00000  1.0  [0, 0, 0, 0, 0]  \n",
       "2             5  0.00000  1.0  [0, 0, 0, 0, 0]  \n",
       "3             5  0.00000  1.0  [0, 0, 0, 0, 0]  \n",
       "4             5  0.00000  1.0  [0, 0, 0, 0, 0]  \n",
       "..          ...      ...  ...              ...  \n",
       "120           5  0.92062  0.4  [0, 0, 2, 1, 1]  \n",
       "121           5  1.00000  0.2  [2, 2, 0, 0, 1]  \n",
       "122           5  0.57938  0.6  [1, 2, 2, 1, 1]  \n",
       "123           5  0.57938  0.6  [1, 2, 2, 1, 1]  \n",
       "124           5  0.78969  0.6  [0, 2, 2, 1, 2]  \n",
       "\n",
       "[125 rows x 11 columns]"
      ]
     },
     "execution_count": 6,
     "metadata": {},
     "output_type": "execute_result"
    }
   ],
   "source": [
    "print(set(df['class']))\n",
    "df"
   ]
  },
  {
   "cell_type": "code",
   "execution_count": 7,
   "metadata": {
    "scrolled": true
   },
   "outputs": [
    {
     "name": "stderr",
     "output_type": "stream",
     "text": [
      "SepMe - INFO - Metric logged: get_knntree_time=0.00321\n",
      "/Users/morarica/miniconda3/envs/SepMe/lib/python3.7/site-packages/networkx/drawing/nx_pylab.py:402: DeprecationWarning: Using or importing the ABCs from 'collections' instead of from 'collections.abc' is deprecated, and in 3.8 it will stop working\n",
      "  if isinstance(alpha, collections.Iterable):\n",
      "/Users/morarica/miniconda3/envs/SepMe/lib/python3.7/site-packages/networkx/drawing/nx_pylab.py:579: MatplotlibDeprecationWarning: \n",
      "The iterable function was deprecated in Matplotlib 3.1 and will be removed in 3.3. Use np.iterable instead.\n",
      "  if not cb.iterable(width):\n",
      "/Users/morarica/miniconda3/envs/SepMe/lib/python3.7/site-packages/networkx/drawing/nx_pylab.py:676: MatplotlibDeprecationWarning: \n",
      "The iterable function was deprecated in Matplotlib 3.1 and will be removed in 3.3. Use np.iterable instead.\n",
      "  if cb.iterable(node_size):  # many node sizes\n"
     ]
    },
    {
     "data": {
      "image/png": "[encoded data removed]",
      "text/plain": [
       "<Figure size 360x360 with 1 Axes>"
      ]
     },
     "metadata": {},
     "output_type": "display_data"
    }
   ],
   "source": [
    "\n",
    "(graph, colors) = add_node_attr(get_knntree(df,2), df, color=True, c=1)\n",
    "#plt.subplot(422, figure = f, title = 'KNNTree')\n",
    "f = plt.figure(figsize=(5,5))\n",
    "nx.draw(graph, pointIDXY,node_color = colors, node_size=25)\n",
    "plt.show()"
   ]
  },
  {
   "cell_type": "code",
   "execution_count": 8,
   "metadata": {},
   "outputs": [
    {
     "name": "stdout",
     "output_type": "stream",
     "text": [
      "{'class': 0, 'pos': (0.0005621476382362545, 0.4925431108447794)}\n"
     ]
    }
   ],
   "source": [
    "nn=1\n",
    "print(graph.nodes(data=True)[nn])\n"
   ]
  },
  {
   "cell_type": "code",
   "execution_count": 9,
   "metadata": {},
   "outputs": [
    {
     "data": {
      "text/plain": [
       "[{'class': 0, 'pos': (0.006504327703258039, 0.6579637019117295)},\n",
       " {'class': 0, 'pos': (0.009544365793916263, 0.5491573827428213)}]"
      ]
     },
     "execution_count": 9,
     "metadata": {},
     "output_type": "execute_result"
    }
   ],
   "source": [
    "[graph.nodes(data=True)[n] for n in graph.neighbors(nn)]"
   ]
  },
  {
   "cell_type": "code",
   "execution_count": 10,
   "metadata": {},
   "outputs": [
    {
     "data": {
      "text/plain": [
       "{'cp_a': 0.592,\n",
       " 'ce_a': 0.36445289199998915,\n",
       " 'mv_a_true': 0.4,\n",
       " 'mv_a_false': 0.784,\n",
       " 'cp_0': 0.63,\n",
       " 'ce_0': 0.35604049528570314,\n",
       " 'mv_0_true': 0.4,\n",
       " 'mv_0_false': 0.86,\n",
       " 'cp_1': 0.625,\n",
       " 'ce_1': 0.3329154363520316,\n",
       " 'mv_1_true': 0.4642857142857143,\n",
       " 'mv_1_false': 0.7857142857142857,\n",
       " 'cp_2': 0.39473684210526316,\n",
       " 'ce_2': 0.47954327894735427,\n",
       " 'mv_2_true': 0.21052631578947367,\n",
       " 'mv_2_false': 0.5789473684210527}"
      ]
     },
     "execution_count": 10,
     "metadata": {},
     "output_type": "execute_result"
    }
   ],
   "source": [
    "total_neighbour_purity(df, graph)"
   ]
  },
  {
   "cell_type": "code",
   "execution_count": 11,
   "metadata": {},
   "outputs": [
    {
     "data": {
      "text/plain": [
       "{'all': 0.168, 0: 0.12, 1: 0.375, 2: 0.21052631578947367}"
      ]
     },
     "execution_count": 11,
     "metadata": {},
     "output_type": "execute_result"
    }
   ],
   "source": [
    "ltcc(graph, df)\n"
   ]
  },
  {
   "cell_type": "code",
   "execution_count": 73,
   "metadata": {},
   "outputs": [
    {
     "data": {
      "text/html": [
       "<div>\n",
       "<style scoped>\n",
       "    .dataframe tbody tr th:only-of-type {\n",
       "        vertical-align: middle;\n",
       "    }\n",
       "\n",
       "    .dataframe tbody tr th {\n",
       "        vertical-align: top;\n",
       "    }\n",
       "\n",
       "    .dataframe thead th {\n",
       "        text-align: right;\n",
       "    }\n",
       "</style>\n",
       "<table border=\"1\" class=\"dataframe\">\n",
       "  <thead>\n",
       "    <tr style=\"text-align: right;\">\n",
       "      <th></th>\n",
       "      <th>x</th>\n",
       "      <th>y</th>\n",
       "      <th>class</th>\n",
       "      <th>orig_class</th>\n",
       "      <th>pos</th>\n",
       "      <th>mv_true</th>\n",
       "      <th>mv_false</th>\n",
       "      <th>neighbours</th>\n",
       "      <th>ce</th>\n",
       "      <th>cp</th>\n",
       "      <th>nns</th>\n",
       "    </tr>\n",
       "  </thead>\n",
       "  <tbody>\n",
       "  </tbody>\n",
       "</table>\n",
       "</div>"
      ],
      "text/plain": [
       "Empty DataFrame\n",
       "Columns: [x, y, class, orig_class, pos, mv_true, mv_false, neighbours, ce, cp, nns]\n",
       "Index: []"
      ]
     },
     "execution_count": 73,
     "metadata": {},
     "output_type": "execute_result"
    }
   ],
   "source": [
    "df.loc[df['class']==4, :]"
   ]
  },
  {
   "cell_type": "code",
   "execution_count": 27,
   "metadata": {},
   "outputs": [
    {
     "data": {
      "image/png": "[encoded data removed]",
      "text/plain": [
       "<Figure size 720x72 with 1 Axes>"
      ]
     },
     "metadata": {
      "needs_background": "light"
     },
     "output_type": "display_data"
    }
   ],
   "source": [
    "sns.palplot(sns.color_palette(\"colorblind\", 10))"
   ]
  },
  {
   "cell_type": "code",
   "execution_count": 56,
   "metadata": {},
   "outputs": [
    {
     "name": "stdout",
     "output_type": "stream",
     "text": [
      "591\n",
      "[591 759 758 765 768 796 770 758 753 777 765 769 785 783 778 782 759 791\n",
      " 771 763 772 749 764 780 777 746 780 778 770 786 768 778 788 772 741 763\n",
      " 783 773 791 771 778 780 773 767 781 787 784 744 753 773 742 781 776 774\n",
      " 753 774 806 789 775 770 732 767 771 767 737 789 781 769 782 755 790 798\n",
      " 775 795 793 783 751 753 783 764 791 768 755 721 737 738 776 757 748 736\n",
      " 740 773 771 780 747 772 759 750 771 758 784]\n"
     ]
    },
    {
     "data": {
      "text/plain": [
       "1.0"
      ]
     },
     "execution_count": 56,
     "metadata": {},
     "output_type": "execute_result"
    }
   ],
   "source": [
    "mcec(graph,df, 100)"
   ]
  },
  {
   "cell_type": "code",
   "execution_count": null,
   "metadata": {},
   "outputs": [],
   "source": []
  }
 ],
 "metadata": {
  "kernelspec": {
   "display_name": "Python 3",
   "language": "python",
   "name": "python3"
  },
  "language_info": {
   "codemirror_mode": {
    "name": "ipython",
    "version": 3
   },
   "file_extension": ".py",
   "mimetype": "text/x-python",
   "name": "python",
   "nbconvert_exporter": "python",
   "pygments_lexer": "ipython3",
   "version": "3.7.4"
  }
 },
 "nbformat": 4,
 "nbformat_minor": 2
}
