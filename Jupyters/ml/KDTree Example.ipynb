{
 "cells": [
  {
   "cell_type": "code",
   "execution_count": 1,
   "metadata": {},
   "outputs": [],
   "source": [
    "import time\n",
    "import numpy\n",
    "import scipy.spatial\n",
    "import numpy as np\n",
    "\n",
    "from matplotlib.pyplot import scatter\n",
    "%matplotlib inline"
   ]
  },
  {
   "cell_type": "code",
   "execution_count": 2,
   "metadata": {},
   "outputs": [
    {
     "data": {
      "text/html": [
       "        <script type=\"text/javascript\">\n",
       "        window.PlotlyConfig = {MathJaxConfig: 'local'};\n",
       "        if (window.MathJax) {MathJax.Hub.Config({SVG: {font: \"STIX-Web\"}});}\n",
       "        if (typeof require !== 'undefined') {\n",
       "        require.undef(\"plotly\");\n",
       "        requirejs.config({\n",
       "            paths: {\n",
       "                'plotly': ['https://cdn.plot.ly/plotly-latest.min']\n",
       "            }\n",
       "        });\n",
       "        require(['plotly'], function(Plotly) {\n",
       "            window._Plotly = Plotly;\n",
       "        });\n",
       "        }\n",
       "        </script>\n",
       "        "
      ]
     },
     "metadata": {},
     "output_type": "display_data"
    }
   ],
   "source": [
    "import plotly.graph_objs as go\n",
    "from plotly.offline import download_plotlyjs, init_notebook_mode, plot, iplot\n",
    "import plotly.offline as py\n",
    "import plotly.figure_factory as ff\n",
    "#import colorlover as cl\n",
    "from plotly import tools\n",
    "import timeit\n",
    "\n",
    "from IPython.display import HTML\n",
    "\n",
    "init_notebook_mode(connected=True)"
   ]
  },
  {
   "cell_type": "code",
   "execution_count": 6,
   "metadata": {},
   "outputs": [
    {
     "name": "stdout",
     "output_type": "stream",
     "text": [
      "[0.13889933 0.19363757]\n",
      "[[0.62247252 0.56552483]\n",
      " [0.65728632 0.91999907]]\n",
      "Completed in: 0.0010571479797363281\n"
     ]
    },
    {
     "ename": "NameError",
     "evalue": "name 'xx' is not defined",
     "output_type": "error",
     "traceback": [
      "\u001b[0;31m---------------------------------------------------------------------------\u001b[0m",
      "\u001b[0;31mNameError\u001b[0m                                 Traceback (most recent call last)",
      "\u001b[0;32m<ipython-input-6-4255b4b047d4>\u001b[0m in \u001b[0;36m<module>\u001b[0;34m\u001b[0m\n\u001b[1;32m     32\u001b[0m \u001b[0;34m\u001b[0m\u001b[0m\n\u001b[1;32m     33\u001b[0m \u001b[0;31m# Plot and embed in ipython notebook!\u001b[0m\u001b[0;34m\u001b[0m\u001b[0;34m\u001b[0m\u001b[0;34m\u001b[0m\u001b[0m\n\u001b[0;32m---> 34\u001b[0;31m \u001b[0mscatter\u001b[0m\u001b[0;34m(\u001b[0m\u001b[0mxx\u001b[0m\u001b[0;34m,\u001b[0m \u001b[0myy\u001b[0m\u001b[0;34m,\u001b[0m \u001b[0mmarker\u001b[0m\u001b[0;34m=\u001b[0m\u001b[0;34m'.'\u001b[0m\u001b[0;34m,\u001b[0m \u001b[0mcolor\u001b[0m\u001b[0;34m=\u001b[0m\u001b[0;34m'k'\u001b[0m\u001b[0;34m,\u001b[0m \u001b[0mlinestyle\u001b[0m\u001b[0;34m=\u001b[0m\u001b[0;34m'none'\u001b[0m\u001b[0;34m)\u001b[0m\u001b[0;34m\u001b[0m\u001b[0;34m\u001b[0m\u001b[0m\n\u001b[0m",
      "\u001b[0;31mNameError\u001b[0m: name 'xx' is not defined"
     ]
    }
   ],
   "source": [
    "y_array = numpy.random.random(20)\n",
    "x_array = numpy.random.random(20)\n",
    "combined_x_y_arrays = numpy.dstack([y_array,x_array])[0]\n",
    "#points_list = list(points.transpose())\n",
    "points_list = [np.array([0.5,0.5]), np.array([0.75,0.75])]\n",
    "\n",
    "def do_kdtree(combined_x_y_arrays,points):\n",
    "    mytree = scipy.spatial.cKDTree(combined_x_y_arrays)\n",
    "    dist, indexes = mytree.query(points)\n",
    "    print(dist)\n",
    "    return indexes\n",
    "\n",
    "start = time.time()\n",
    "results2 = do_kdtree(combined_x_y_arrays,points_list)\n",
    "print(combined_x_y_arrays[results2])\n",
    "end = time.time()\n",
    "print('Completed in: '+ str(end-start))\n",
    "\n",
    "\n",
    "trace = go.Scatter(\n",
    "    x = combined_x_y_arrays.transpose()[0],\n",
    "    y = combined_x_y_arrays.transpose()[1],\n",
    "    mode = 'markers'\n",
    ")\n",
    "\n",
    "tt = go.Scatter(\n",
    "    x = [0.5],\n",
    "    y = [0.5],\n",
    "    mode = 'markers'\n",
    ")\n",
    "data = [trace, tt]\n",
    "\n",
    "# Plot and embed in ipython notebook!\n"
   ]
  },
  {
   "cell_type": "code",
   "execution_count": 7,
   "metadata": {},
   "outputs": [
    {
     "data": {
      "text/plain": [
       "array([[[0.17008053, 0.67391752],\n",
       "        [0.08021758, 0.82575745],\n",
       "        [0.18705301, 0.9139112 ],\n",
       "        [0.29352458, 0.39156986],\n",
       "        [0.73482224, 0.74210892],\n",
       "        [0.39878552, 0.27969928],\n",
       "        [0.31935584, 0.40438106],\n",
       "        [0.84402186, 0.40942218],\n",
       "        [0.68273643, 0.32331533],\n",
       "        [0.66343465, 0.06734115],\n",
       "        [0.54664222, 0.525625  ],\n",
       "        [0.92508201, 0.40465407],\n",
       "        [0.63434916, 0.78136529],\n",
       "        [0.72076427, 0.30982613],\n",
       "        [0.8619252 , 0.16276142],\n",
       "        [0.31100479, 0.21343205],\n",
       "        [0.67234768, 0.05402066],\n",
       "        [0.00817413, 0.18498818],\n",
       "        [0.05110239, 0.63726134],\n",
       "        [0.71647061, 0.76768859]]])"
      ]
     },
     "execution_count": 7,
     "metadata": {},
     "output_type": "execute_result"
    }
   ],
   "source": [
    "numpy.dstack([y_array,x_array])"
   ]
  },
  {
   "cell_type": "code",
   "execution_count": 4,
   "metadata": {},
   "outputs": [
    {
     "data": {
      "text/plain": [
       "[array([0.5, 0.5]), array([0.75, 0.75])]"
      ]
     },
     "execution_count": 4,
     "metadata": {},
     "output_type": "execute_result"
    }
   ],
   "source": [
    "points_list"
   ]
  },
  {
   "cell_type": "code",
   "execution_count": null,
   "metadata": {},
   "outputs": [],
   "source": []
  }
 ],
 "metadata": {
  "kernelspec": {
   "display_name": "Python 3",
   "language": "python",
   "name": "python3"
  },
  "language_info": {
   "codemirror_mode": {
    "name": "ipython",
    "version": 3
   },
   "file_extension": ".py",
   "mimetype": "text/x-python",
   "name": "python",
   "nbconvert_exporter": "python",
   "pygments_lexer": "ipython3",
   "version": "3.7.4"
  },
  "toc": {
   "base_numbering": 1,
   "nav_menu": {},
   "number_sections": true,
   "sideBar": true,
   "skip_h1_title": false,
   "title_cell": "Table of Contents",
   "title_sidebar": "Contents",
   "toc_cell": false,
   "toc_position": {},
   "toc_section_display": true,
   "toc_window_display": false
  }
 },
 "nbformat": 4,
 "nbformat_minor": 2
}
