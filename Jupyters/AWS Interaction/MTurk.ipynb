{
 "cells": [
  {
   "cell_type": "code",
   "execution_count": 29,
   "metadata": {},
   "outputs": [],
   "source": [
    "import boto3\n",
    "\n",
    "MTURK_SANDBOX = 'https://mturk-requester-sandbox.us-east-1.amazonaws.com'\n",
    "\n",
    "client = boto3.client('mturk', region_name='us-east-1',endpoint_url = MTURK_SANDBOX)"
   ]
  },
  {
   "cell_type": "code",
   "execution_count": 22,
   "metadata": {},
   "outputs": [],
   "source": [
    "response = client.associate_qualification_with_worker(\n",
    "    QualificationTypeId='3TDQPWMDS7TBLNOOQ8U9BYDE3IBAN3',\n",
    "    WorkerId='A1R5C4KJ0FELZQ',\n",
    "    IntegerValue=1,\n",
    "    SendNotification=True\n",
    ")"
   ]
  },
  {
   "cell_type": "code",
   "execution_count": 18,
   "metadata": {},
   "outputs": [
    {
     "data": {
      "text/plain": [
       "{'HIT': {'HITId': '3UQVX1UPFSMQ80F5LAE4OCT50AI20L',\n",
       "  'HITTypeId': '3BRS3IGD6F1SIL10SUMWTBW9XEPRTS',\n",
       "  'HITGroupId': '3QNALI7B3RSGEI2UPT3420LQ85W5ZQ',\n",
       "  'HITLayoutId': '3H9GVVZSHHJ20K0HHRIJSC2Y9WXETR',\n",
       "  'CreationTime': datetime.datetime(2019, 11, 27, 15, 2, 22, tzinfo=tzlocal()),\n",
       "  'Title': 'Judging cluster separability in scatterplots',\n",
       "  'Description': 'Please only accept this HIT, if you are willing to participate in a longer 15 minutes survey which will happen in the next weeks. ',\n",
       "  'Question': '<?xml version=\"1.0\"?>\\n<HTMLQuestion xmlns=\"http://mechanicalturk.amazonaws.com/AWSMechanicalTurkDataSchemas/2011-11-11/HTMLQuestion.xsd\">\\n  <HTMLContent><![CDATA[<html><head><title>HIT</title><meta http-equiv=\"Content-Type\" content=\"text/html; charset=UTF-8\"/></head><body><script src=\"https://assets.crowd.aws/crowd-html-elements.js\"></script>\\r\\n\\r\\n<script src=\"https://code.jquery.com/jquery-3.3.1.slim.min.js\"\\r\\n        integrity=\"sha384-q8i/X+965DzO0rT7abK41JStQIAqVgRVzpbzo5smXKp4YfRvH+8abtTE1Pi6jizo\"\\r\\n        crossorigin=\"anonymous\"></script>\\r\\n<script src=\"https://cdnjs.cloudflare.com/ajax/libs/popper.js/1.14.7/umd/popper.min.js\"\\r\\n        integrity=\"sha384-UO2eT0CpHqdSJQ6hJty5KVphtPhzWj9WO1clHTMGa3JDZwrnQq4sF86dIHNDz0W1\"\\r\\n        crossorigin=\"anonymous\"></script>\\r\\n<script src=\"https://stackpath.bootstrapcdn.com/bootstrap/4.3.1/js/bootstrap.min.js\"\\r\\n        integrity=\"sha384-JjSmVgyd0p3pXB1rRibZUAYoIIy6OrQ6VrjIEaFf/nJGzIxFDsf4x0xIM+B07jRM\"\\r\\n        crossorigin=\"anonymous\"></script>\\r\\n<link rel=\"stylesheet\" href=\"https://stackpath.bootstrapcdn.com/bootstrap/4.3.1/css/bootstrap.min.css\"\\r\\n      integrity=\"sha384-ggOyR0iXCbMQv3Xipma34MD+dH/1fQ784/j6cY/iJTQUOhcWr7x9JvoRxT2MZw1T\" crossorigin=\"anonymous\">\\r\\n\\r\\n<!-- For the full list of available Crowd HTML Elements and their input/output documentation,\\r\\n      please refer to https://docs.aws.amazon.com/sagemaker/latest/dg/sms-ui-template-reference.html -->\\r\\n<script>\\r\\n    colors = [\\'#0173b2\\',\\r\\n        \\'#de8f05\\',\\r\\n        \\'#029e73\\',\\r\\n        \\'#d55e00\\',\\r\\n        \\'#cc78bc\\',\\r\\n        \\'#ca9161\\',\\r\\n        \\'#fbafe4\\',\\r\\n        \\'#949494\\',\\r\\n        \\'#ece133\\',\\r\\n        \\'#56b4e9\\']\\r\\n</script>\\r\\n\\r\\n<!-- You must include crowd-form so that your task submits answers to MTurk -->\\r\\n\\r\\n\\r\\n<crowd-form answer-format=\"flatten-objects\">\\r\\n\\r\\n    <div class=\"container col-lg-12 my-auto\" style=\"max-width: 80%\">\\r\\n        <div class=\"\\'row\">\\r\\n            <h1> Cluster Separability of multi-colored scatterplots</h1> <hr>\\r\\n\\r\\n            <h4 style=\"color:#003d00\">Please only accept this HIT if you are willing to participate in a 15 minutes follow-up survey.</h4> <br>\\r\\n\\r\\n        </div>\\r\\n        <crowd-tabs>\\r\\n            <crowd-tab header=\"Instructions\">\\r\\n                <h5>1. Instructions</h5> </br>\\r\\n                <p> 1.1 In the following task, you will be shown an image of a scatterplot containing multiple groups of\\r\\n                    points, distinguished from each other by color.</p>  </br>\\r\\n                <p> 1.2 The task requires you to inspect the plot and decide for each individual group of points how\\r\\n                    separable/different\\r\\n                    they are from the rest. </p>  </br>\\r\\n                <p> 1.3 In order to decide you must use the slider on the right side of the page: </p>  </br>\\r\\n                <ul>\\r\\n                    <li>If a group is unseparable from the rest, please drag the slider towards the left (towards\\r\\n                        0%)\\r\\n                    </li>\\r\\n                    <img src = \\'https://scatterplots.s3.eu-central-1.amazonaws.com/nonsep_slider.png\\' style=\"max-width: 15%\"></br>\\r\\n                    <li>Else if a group is well separated from the rest, please drar the slider towards the right\\r\\n                        (towards\\r\\n                        100%)\\r\\n                    </li>\\r\\n                    <img src = \\'https://scatterplots.s3.eu-central-1.amazonaws.com/sep_slider.png\\' style=\"max-width: 15%\"></br>\\r\\n                </ul>\\r\\n                <hr>\\r\\n                <h5>2. Examples</h5> </br>\\r\\n                <h6>2.1 Highly Separable Scenario</h6>\\r\\n                <div class=\"row\">\\r\\n                    <div class=\"col-4\"><img src=\"https://scatterplots.s3.eu-central-1.amazonaws.com/sep_multi.png\"\\r\\n                                            style=\"max-height: 250px; max-width: 250px; padding: 10px\"></div>\\r\\n                    <div class=\"col-8\">\\r\\n                        <br class=\\'row\\'>\\r\\n                        <p>Examples of highly separable classes</p>\\r\\n                        <div class=\\'row\\'>\\r\\n                            <div class=\\'col-3\\'>\\r\\n                                <h5><span class=\\'badge badge-secondary\\'\\r\\n                                          style=\\'background-color: #0173b2; color:white; text-align: left\\'>Class 1: </span>\\r\\n                                </h5>\\r\\n                            </div>\\r\\n                            <div class=\\'col-9\\'>\\r\\n                                <crowd-slider max=100 min=0 name=\"test_sep_1\" pin=True required=True step=1\\r\\n                                              style=\\'--paper-progress-active-color: var(--paper-slider-active-color, #0173b2); --paper-slider-knob-color: #0173b2; --paper-slider-pin-color: #0173b2;\\'\\r\\n                                              value=99>\\r\\n\\r\\n                                </crowd-slider>\\r\\n                            </div>\\r\\n\\r\\n                        </div>\\r\\n                        <div class=\\'row\\'>\\r\\n\\r\\n                            <div class=\\'col-3\\'>\\r\\n                                <h5><span class=\\'badge badge-secondary\\'\\r\\n                                          style=\\'background-color: #de8f05; color:white; text-align: left\\'>Class 2: </span>\\r\\n                                </h5>\\r\\n                            </div>\\r\\n                            <div class=\\'col-9\\'>\\r\\n                                <crowd-slider max=100 min=0 name=\"test_sep_2\" pin=True required=True step=1\\r\\n                                              style=\\'--paper-progress-active-color: var(--paper-slider-active-color, #de8f05); --paper-slider-knob-color: #de8f05; --paper-slider-pin-color: #de8f05;\\'\\r\\n                                              value=82>\\r\\n\\r\\n                                </crowd-slider>\\r\\n                            </div>\\r\\n                        </div>\\r\\n                        <div class=\\'row\\'>\\r\\n\\r\\n                            <div class=\\'col-3\\'>\\r\\n                                <h5><span class=\\'badge badge-secondary\\'\\r\\n                                          style=\\'background-color: #029e73; color:white; text-align: left\\'>Class 3: </span>\\r\\n                                </h5>\\r\\n                            </div>\\r\\n                            <div class=\\'col-9\\'>\\r\\n                                <crowd-slider max=100 min=0 name=\"test_sep_3\" pin=True required=True step=1\\r\\n                                              style=\\'--paper-progress-active-color: var(--paper-slider-active-color, #029e73); --paper-slider-knob-color: #029e73; --paper-slider-pin-color: #029e73;\\'\\r\\n                                              value=80>\\r\\n\\r\\n                                </crowd-slider>\\r\\n                            </div>\\r\\n                        </div>\\r\\n                    </div>\\r\\n\\r\\n\\r\\n                </div>\\r\\n\\r\\n                <h6>2.2 Non-Separable Scenario</h6>\\r\\n                <div class=\"row\">\\r\\n                    <div class=\"col-4\"><img\\r\\n                            src=\"https://scatterplots.s3.eu-central-1.amazonaws.com/nonsep_multi.png\"\\r\\n                            style=\"max-height: 250px; max-width: 250px; padding: 10px\"></div>\\r\\n                    <div class=\"col-8\">\\r\\n                        <br class=\\'row\\'>\\r\\n                        <p>Examples of completely non-separable separable classes</p>\\r\\n                        <div class=\\'row\\'>\\r\\n                            <div class=\\'col-3\\'>\\r\\n                                <h5><span class=\\'badge badge-secondary\\'\\r\\n                                          style=\\'background-color: #0173b2; color:white; text-align: left\\'>Class 1: </span>\\r\\n                                </h5>\\r\\n                            </div>\\r\\n                            <div class=\\'col-9\\'>\\r\\n                                <crowd-slider max=100 min=0 name=\"test_nonsep_1\" pin=True required=True step=1\\r\\n                                              style=\\'--paper-progress-active-color: var(--paper-slider-active-color, #0173b2); --paper-slider-knob-color: #0173b2; --paper-slider-pin-color: #0173b2;\\'\\r\\n                                              value=1>\\r\\n                                </crowd-slider>\\r\\n                            </div>\\r\\n                        </div>\\r\\n                        <div class=\\'row\\'>\\r\\n                            <div class=\\'col-3\\'>\\r\\n                                <h5><span class=\\'badge badge-secondary\\'\\r\\n                                          style=\\'background-color: #de8f05; color:white; text-align: left\\'>Class 3: </span>\\r\\n                                </h5>\\r\\n                            </div>\\r\\n                            <div class=\\'col-9\\'>\\r\\n                                <crowd-slider max=100 min=0 name=\"test_nonsep_2\" pin=True required=True step=1\\r\\n                                              style=\\'--paper-progress-active-color: var(--paper-slider-active-color, #de8f05); --paper-slider-knob-color: #de8f05; --paper-slider-pin-color: #de8f05;\\'\\r\\n                                              value=1>\\r\\n\\r\\n                                </crowd-slider>\\r\\n                            </div>\\r\\n                        </div>\\r\\n                        <div class=\\'row\\'>\\r\\n                            <div class=\\'col-3\\'>\\r\\n                                <h5><span class=\\'badge badge-secondary\\'\\r\\n                                          style=\\'background-color: #029e73; color:white; text-align: left\\'>Class 2: </span>\\r\\n                                </h5>\\r\\n                            </div>\\r\\n                            <div class=\\'col-9\\'>\\r\\n                                <crowd-slider max=100 min=0 name=\"test_nonsep_3\" pin=True required=True step=1\\r\\n                                              style=\\'--paper-progress-active-color: var(--paper-slider-active-color, #029e73); --paper-slider-knob-color: #029e73; --paper-slider-pin-color: #029e73;\\'\\r\\n                                              value=1>\\r\\n\\r\\n                                </crowd-slider>\\r\\n                            </div>\\r\\n                        </div>\\r\\n                    </div>\\r\\n\\r\\n                </div>\\r\\n\\r\\n                <h6>2.3 Middle Ground Scenario</h6>\\r\\n                <div class=\"row\">\\r\\n                    <div class=\"col-4\"><img src=\"https://scatterplots.s3.eu-central-1.amazonaws.com/mixed.png\"\\r\\n                                            style=\"max-height: 250px; max-width: 250px; padding: 10px\"></div>\\r\\n                    <div class=\"col-8\">\\r\\n                        <br class=\\'row\\'>\\r\\n                        <p>Examples of mixed separability</p>\\r\\n                        <div class=\\'row\\'>\\r\\n                            <div class=\\'col-3\\'>\\r\\n                                <h5><span class=\\'badge badge-secondary\\'\\r\\n                                          style=\\'background-color: #0173b2; color:white; text-align: left\\'>Class 1: </span>\\r\\n                                </h5>\\r\\n                            </div>\\r\\n                            <div class=\\'col-9\\'>\\r\\n                                <crowd-slider max=100 min=0 name=\"test_mixed_1\" pin=True required=True step=1\\r\\n                                              style=\\'--paper-progress-active-color: var(--paper-slider-active-color, #0173b2); --paper-slider-knob-color: #0173b2; --paper-slider-pin-color: #0173b2;\\'\\r\\n                                              value=35>\\r\\n                                </crowd-slider>\\r\\n                            </div>\\r\\n                        </div>\\r\\n                        <div class=\\'row\\'>\\r\\n                            <div class=\\'col-3\\'>\\r\\n                                <h5><span class=\\'badge badge-secondary\\'\\r\\n                                          style=\\'background-color: #de8f05; color:white; text-align: left\\'>Class 2: </span>\\r\\n                                </h5>\\r\\n                            </div>\\r\\n                            <div class=\\'col-9\\'>\\r\\n                                <crowd-slider max=100 min=0 name=\"test_mixed_2\" pin=True required=True step=1\\r\\n                                              style=\\'--paper-progress-active-color: var(--paper-slider-active-color, #de8f05); --paper-slider-knob-color: #de8f05; --paper-slider-pin-color: #de8f05;\\'\\r\\n                                              value=15>\\r\\n\\r\\n                                </crowd-slider>\\r\\n                            </div>\\r\\n                        </div>\\r\\n                        <div class=\\'row\\'>\\r\\n                            <div class=\\'col-3\\'>\\r\\n                                <h5><span class=\\'badge badge-secondary\\'\\r\\n                                          style=\\'background-color: #029e73; color:white; text-align: left\\'>Class 3: </span>\\r\\n                                </h5>\\r\\n                            </div>\\r\\n                            <div class=\\'col-9\\'>\\r\\n                                <crowd-slider max=100 min=0 name=\"test_mixed_3\" pin=True required=True step=1\\r\\n                                              style=\\'--paper-progress-active-color: var(--paper-slider-active-color, #029e73); --paper-slider-knob-color: #029e73; --paper-slider-pin-color: #029e73;\\'\\r\\n                                              value=55>\\r\\n\\r\\n                                </crowd-slider>\\r\\n                            </div>\\r\\n                        </div>\\r\\n                    </div>\\r\\n\\r\\n                </div>\\r\\n                <hr>\\r\\n                <div class=\"\\'row\">\\r\\n                    <h5>3. Confirmation</h5>\\r\\n                    <crowd-checkbox name=\"consent\" required=True> I have read and understood the requirements.\\r\\n                    </crowd-checkbox>\\r\\n                </div>\\r\\n            </crowd-tab>\\r\\n            <crowd-tab header=\"Task\">\\r\\n\\r\\n                <div class=\"row\">\\r\\n                    <div class=\"col-8\">\\r\\n                        <img src=\\'https://scatterplots.s3.eu-central-1.amazonaws.com/sample_test/abalone_PCA.png\\'\\r\\n                             style=\"max-height: 100%; max-width: 100%; padding: 10px\"/>\\r\\n                    </div>\\r\\n                    <div class=\"col-4\">\\r\\n                        <h4> Please select separability for the following classes:</h4>\\r\\n                        <div id=\"target\" style=\"padding: 5px\"></div>\\r\\n                        <hr>\\r\\n                    <div class=\"row my-auto\" style=\"  display: flex;\\r\\n                                                      align-items: center;\\r\\n                                                      justify-content: center;\">\\r\\n                        <crowd-button form-action=\"submit\" variant=\"primary\">Submit</crowd-button>\\r\\n\\r\\n                    </div>\\r\\n                    </div>\\r\\n                </div>\\r\\n\\r\\n            </crowd-tab>\\r\\n        </crowd-tabs>\\r\\n\\r\\n\\r\\n    </div>\\r\\n\\r\\n\\r\\n</crowd-form>\\r\\n\\r\\n<script>\\r\\n\\r\\n    colors = [\\'#0173b2\\',\\r\\n        \\'#de8f05\\',\\r\\n        \\'#029e73\\',\\r\\n        \\'#d55e00\\',\\r\\n        \\'#cc78bc\\',\\r\\n        \\'#ca9161\\',\\r\\n        \\'#fbafe4\\',\\r\\n        \\'#949494\\',\\r\\n        \\'#ece133\\',\\r\\n        \\'#56b4e9\\'];\\r\\n\\r\\n    number = 10;\\r\\n    class_set = 1;\\r\\n    if (number > 4) {\\r\\n        number = 4\\r\\n    }\\r\\n    for (var i = 1; i <= number; i++) {\\r\\n        ii = class_set * 4 + i;\\r\\n        if (ii<=10) {\\r\\n            $(\\'#target\\').append(\"<div class=\\'row\\'>\" +\\r\\n                \"<div class=\\'col-3\\'><h5 > <span class=\\'badge badge-secondary\\' style=\\'background-color:\" + colors[i - 1] + \"; color:white; text-align: left\\'>Class \" + i + \": </span> </h5></div>\" +\\r\\n                \"<div class=\\'col-9\\'><crowd-slider id=\\'class_\" + i + \"\\' name=\\'Separability\" + i + \"\\' max=100 min=0 step=1 value=50 required=True pin=True \" +\\r\\n                \"style=\\'--paper-progress-active-color: var(--paper-slider-active-color, \" + colors[i - 1] + \"); \" +\\r\\n                \"--paper-slider-knob-color:  \" + colors[i - 1] + \";\" +\\r\\n                \"--paper-slider-pin-color: \" + colors[i - 1] + \";\\'\" +\\r\\n                \"></crowd-slider>\" +\\r\\n                \"</div></div></br>\") }\\r\\n\\r\\n    }\\r\\n\\r\\n\\r\\n    // $( \"#cris\" ).empty()\\r\\n\\r\\n\\r\\n\\r\\n</script></body></html>]]></HTMLContent>\\n  <FrameHeight>0</FrameHeight>\\n</HTMLQuestion>\\n',\n",
       "  'Keywords': 'image, classification, scatterplots, visualisation, perception ',\n",
       "  'HITStatus': 'Reviewable',\n",
       "  'MaxAssignments': 20,\n",
       "  'Reward': '0.20',\n",
       "  'AutoApprovalDelayInSeconds': 432000,\n",
       "  'Expiration': datetime.datetime(2019, 11, 27, 15, 3, 32, tzinfo=tzlocal()),\n",
       "  'AssignmentDurationInSeconds': 300,\n",
       "  'RequesterAnnotation': 'BatchId:261106;OriginalHitTemplateId:921587263;',\n",
       "  'QualificationRequirements': [],\n",
       "  'HITReviewStatus': 'NotReviewed',\n",
       "  'NumberOfAssignmentsPending': 0,\n",
       "  'NumberOfAssignmentsAvailable': 19,\n",
       "  'NumberOfAssignmentsCompleted': 1},\n",
       " 'ResponseMetadata': {'RequestId': '29d54578-e5e0-4577-b468-bf89a3ed55dc',\n",
       "  'HTTPStatusCode': 200,\n",
       "  'HTTPHeaders': {'x-amzn-requestid': '29d54578-e5e0-4577-b468-bf89a3ed55dc',\n",
       "   'content-type': 'application/x-amz-json-1.1',\n",
       "   'content-length': '17549',\n",
       "   'date': 'Tue, 10 Dec 2019 16:05:04 GMT'},\n",
       "  'RetryAttempts': 0}}"
      ]
     },
     "execution_count": 18,
     "metadata": {},
     "output_type": "execute_result"
    }
   ],
   "source": [
    "response"
   ]
  },
  {
   "cell_type": "code",
   "execution_count": 12,
   "metadata": {},
   "outputs": [
    {
     "data": {
      "text/plain": [
       "{'AvailableBalance': '10000.00',\n",
       " 'ResponseMetadata': {'RequestId': '0f0f2a4d-c739-4e1a-8e9f-21c26598c1df',\n",
       "  'HTTPStatusCode': 200,\n",
       "  'HTTPHeaders': {'x-amzn-requestid': '0f0f2a4d-c739-4e1a-8e9f-21c26598c1df',\n",
       "   'content-type': 'application/x-amz-json-1.1',\n",
       "   'content-length': '31',\n",
       "   'date': 'Tue, 10 Dec 2019 16:05:11 GMT'},\n",
       "  'RetryAttempts': 0}}"
      ]
     },
     "execution_count": 12,
     "metadata": {},
     "output_type": "execute_result"
    }
   ],
   "source": [
    "client.get_account_balance()"
   ]
  },
  {
   "cell_type": "code",
   "execution_count": 15,
   "metadata": {},
   "outputs": [
    {
     "data": {
      "text/plain": [
       "{'NotifyWorkersFailureStatuses': [],\n",
       " 'ResponseMetadata': {'RequestId': '83eee7f3-7db3-4e3f-b77e-7b034ceb2e60',\n",
       "  'HTTPStatusCode': 200,\n",
       "  'HTTPHeaders': {'x-amzn-requestid': '83eee7f3-7db3-4e3f-b77e-7b034ceb2e60',\n",
       "   'content-type': 'application/x-amz-json-1.1',\n",
       "   'content-length': '35',\n",
       "   'date': 'Tue, 10 Dec 2019 16:23:41 GMT'},\n",
       "  'RetryAttempts': 0}}"
      ]
     },
     "execution_count": 15,
     "metadata": {},
     "output_type": "execute_result"
    }
   ],
   "source": [
    "client.notify_workers(\n",
    "    Subject='Regarding Amazon Mechanical Turk HIT 3ZG552ORAM9611GLO7632M3T1BBV2Y',\n",
    "    MessageText='\\\\blablba \\n /n hey hey hey',\n",
    "    WorkerIds=['A1R5C4KJ0FELZQ']\n",
    ")"
   ]
  },
  {
   "cell_type": "code",
   "execution_count": 24,
   "metadata": {},
   "outputs": [
    {
     "ename": "SyntaxError",
     "evalue": "invalid syntax (<ipython-input-24-cc73b68cd658>, line 12)",
     "output_type": "error",
     "traceback": [
      "\u001b[0;36m  File \u001b[0;32m\"<ipython-input-24-cc73b68cd658>\"\u001b[0;36m, line \u001b[0;32m12\u001b[0m\n\u001b[0;31m    WorkerIds=[row]\u001b[0m\n\u001b[0m            ^\u001b[0m\n\u001b[0;31mSyntaxError\u001b[0m\u001b[0;31m:\u001b[0m invalid syntax\n"
     ]
    }
   ],
   "source": [
    "import pandas as pd\n",
    "qual = '../../data/mturk_samples/training_abstract/qualification_semantic.csv'\n",
    "\n",
    "df = pd.read_csv(qual)\n",
    "df\n",
    "\n",
    "for i, row in df['Worker ID'].items():\n",
    "    print(row)\n",
    "    \n",
    ")"
   ]
  },
  {
   "cell_type": "code",
   "execution_count": 31,
   "metadata": {},
   "outputs": [
    {
     "ename": "SyntaxError",
     "evalue": "EOL while scanning string literal (<ipython-input-31-65560e7cc810>, line 3)",
     "output_type": "error",
     "traceback": [
      "\u001b[0;36m  File \u001b[0;32m\"<ipython-input-31-65560e7cc810>\"\u001b[0;36m, line \u001b[0;32m3\u001b[0m\n\u001b[0;31m    MessageText=\"Hello, \\n\u001b[0m\n\u001b[0m                          ^\u001b[0m\n\u001b[0;31mSyntaxError\u001b[0m\u001b[0;31m:\u001b[0m EOL while scanning string literal\n"
     ]
    }
   ],
   "source": [
    "client.notify_workers(\n",
    "    Subject='You have earned the qualification for judging cultural differences from scatterplots!',\n",
    "    MessageText=\"Hello, \\n\n",
    "    Thank you for participating in last week's task about judging cultural differences. \\n\n",
    "    You are now invited to participate in the follow-up HITs available by clicking in the\" +\n",
    "    \" Qualifications Dashboard on my name, Cristina Morariu.  \\n\n",
    "    We are paying 0.05$ and most people take 30seconds to complete one HIT. \\n \\n\n",
    "    Best regards, \\n Cristina Morariu\",\n",
    "    WorkerIds= ['A1R5C4KJ0FELZQ'])"
   ]
  },
  {
   "cell_type": "code",
   "execution_count": null,
   "metadata": {},
   "outputs": [],
   "source": []
  }
 ],
 "metadata": {
  "kernelspec": {
   "display_name": "Python 3",
   "language": "python",
   "name": "python3"
  },
  "language_info": {
   "codemirror_mode": {
    "name": "ipython",
    "version": 3
   },
   "file_extension": ".py",
   "mimetype": "text/x-python",
   "name": "python",
   "nbconvert_exporter": "python",
   "pygments_lexer": "ipython3",
   "version": "3.7.4"
  }
 },
 "nbformat": 4,
 "nbformat_minor": 2
}
