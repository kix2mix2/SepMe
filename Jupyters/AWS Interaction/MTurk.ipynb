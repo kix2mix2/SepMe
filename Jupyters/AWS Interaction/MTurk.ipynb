{
 "cells": [
  {
   "cell_type": "code",
   "execution_count": 63,
   "metadata": {},
   "outputs": [],
   "source": [
    "import boto3\n",
    "\n",
    "MTURK_SANDBOX = 'https://mturk-requester-sandbox.us-east-1.amazonaws.com'\n",
    "\n",
    "client = boto3.client('mturk', region_name='us-east-1')\n",
    "                      #endpoint_url = MTURK_SANDBOX)"
   ]
  },
  {
   "cell_type": "code",
   "execution_count": 64,
   "metadata": {},
   "outputs": [
    {
     "ename": "RequestError",
     "evalue": "An error occurred (RequestError) when calling the DisassociateQualificationFromWorker operation: This operation can be called with a status of: Granted (1576661480113)",
     "output_type": "error",
     "traceback": [
      "\u001b[0;31m---------------------------------------------------------------------------\u001b[0m",
      "\u001b[0;31mRequestError\u001b[0m                              Traceback (most recent call last)",
      "\u001b[0;32m<ipython-input-64-42291deae401>\u001b[0m in \u001b[0;36m<module>\u001b[0;34m\u001b[0m\n\u001b[1;32m      2\u001b[0m     \u001b[0mWorkerId\u001b[0m\u001b[0;34m=\u001b[0m\u001b[0;34m'AOMFEAWQHU3D8'\u001b[0m\u001b[0;34m,\u001b[0m\u001b[0;34m\u001b[0m\u001b[0;34m\u001b[0m\u001b[0m\n\u001b[1;32m      3\u001b[0m     \u001b[0mQualificationTypeId\u001b[0m\u001b[0;34m=\u001b[0m\u001b[0;34m'3A52Y8PZGHCCQ99Q3QX6OED9XE0PMX'\u001b[0m\u001b[0;34m,\u001b[0m\u001b[0;34m\u001b[0m\u001b[0;34m\u001b[0m\u001b[0m\n\u001b[0;32m----> 4\u001b[0;31m     \u001b[0mReason\u001b[0m\u001b[0;34m=\u001b[0m\u001b[0;34m'I have assignmed you access to two of my experiments accidentally.'\u001b[0m\u001b[0;34m\u001b[0m\u001b[0;34m\u001b[0m\u001b[0m\n\u001b[0m\u001b[1;32m      5\u001b[0m )\n",
      "\u001b[0;32m~/miniconda3/envs/SepMe/lib/python3.7/site-packages/botocore/client.py\u001b[0m in \u001b[0;36m_api_call\u001b[0;34m(self, *args, **kwargs)\u001b[0m\n\u001b[1;32m    355\u001b[0m                     \"%s() only accepts keyword arguments.\" % py_operation_name)\n\u001b[1;32m    356\u001b[0m             \u001b[0;31m# The \"self\" in this scope is referring to the BaseClient.\u001b[0m\u001b[0;34m\u001b[0m\u001b[0;34m\u001b[0m\u001b[0;34m\u001b[0m\u001b[0m\n\u001b[0;32m--> 357\u001b[0;31m             \u001b[0;32mreturn\u001b[0m \u001b[0mself\u001b[0m\u001b[0;34m.\u001b[0m\u001b[0m_make_api_call\u001b[0m\u001b[0;34m(\u001b[0m\u001b[0moperation_name\u001b[0m\u001b[0;34m,\u001b[0m \u001b[0mkwargs\u001b[0m\u001b[0;34m)\u001b[0m\u001b[0;34m\u001b[0m\u001b[0;34m\u001b[0m\u001b[0m\n\u001b[0m\u001b[1;32m    358\u001b[0m \u001b[0;34m\u001b[0m\u001b[0m\n\u001b[1;32m    359\u001b[0m         \u001b[0m_api_call\u001b[0m\u001b[0;34m.\u001b[0m\u001b[0m__name__\u001b[0m \u001b[0;34m=\u001b[0m \u001b[0mstr\u001b[0m\u001b[0;34m(\u001b[0m\u001b[0mpy_operation_name\u001b[0m\u001b[0;34m)\u001b[0m\u001b[0;34m\u001b[0m\u001b[0;34m\u001b[0m\u001b[0m\n",
      "\u001b[0;32m~/miniconda3/envs/SepMe/lib/python3.7/site-packages/botocore/client.py\u001b[0m in \u001b[0;36m_make_api_call\u001b[0;34m(self, operation_name, api_params)\u001b[0m\n\u001b[1;32m    659\u001b[0m             \u001b[0merror_code\u001b[0m \u001b[0;34m=\u001b[0m \u001b[0mparsed_response\u001b[0m\u001b[0;34m.\u001b[0m\u001b[0mget\u001b[0m\u001b[0;34m(\u001b[0m\u001b[0;34m\"Error\"\u001b[0m\u001b[0;34m,\u001b[0m \u001b[0;34m{\u001b[0m\u001b[0;34m}\u001b[0m\u001b[0;34m)\u001b[0m\u001b[0;34m.\u001b[0m\u001b[0mget\u001b[0m\u001b[0;34m(\u001b[0m\u001b[0;34m\"Code\"\u001b[0m\u001b[0;34m)\u001b[0m\u001b[0;34m\u001b[0m\u001b[0;34m\u001b[0m\u001b[0m\n\u001b[1;32m    660\u001b[0m             \u001b[0merror_class\u001b[0m \u001b[0;34m=\u001b[0m \u001b[0mself\u001b[0m\u001b[0;34m.\u001b[0m\u001b[0mexceptions\u001b[0m\u001b[0;34m.\u001b[0m\u001b[0mfrom_code\u001b[0m\u001b[0;34m(\u001b[0m\u001b[0merror_code\u001b[0m\u001b[0;34m)\u001b[0m\u001b[0;34m\u001b[0m\u001b[0;34m\u001b[0m\u001b[0m\n\u001b[0;32m--> 661\u001b[0;31m             \u001b[0;32mraise\u001b[0m \u001b[0merror_class\u001b[0m\u001b[0;34m(\u001b[0m\u001b[0mparsed_response\u001b[0m\u001b[0;34m,\u001b[0m \u001b[0moperation_name\u001b[0m\u001b[0;34m)\u001b[0m\u001b[0;34m\u001b[0m\u001b[0;34m\u001b[0m\u001b[0m\n\u001b[0m\u001b[1;32m    662\u001b[0m         \u001b[0;32melse\u001b[0m\u001b[0;34m:\u001b[0m\u001b[0;34m\u001b[0m\u001b[0;34m\u001b[0m\u001b[0m\n\u001b[1;32m    663\u001b[0m             \u001b[0;32mreturn\u001b[0m \u001b[0mparsed_response\u001b[0m\u001b[0;34m\u001b[0m\u001b[0;34m\u001b[0m\u001b[0m\n",
      "\u001b[0;31mRequestError\u001b[0m: An error occurred (RequestError) when calling the DisassociateQualificationFromWorker operation: This operation can be called with a status of: Granted (1576661480113)"
     ]
    }
   ],
   "source": [
    "client.disassociate_qualification_from_worker(\n",
    "    WorkerId='AOMFEAWQHU3D8',\n",
    "    QualificationTypeId='3A52Y8PZGHCCQ99Q3QX6OED9XE0PMX',\n",
    "    Reason='I have assignmed you access to two of my experiments accidentally.'\n",
    ")"
   ]
  },
  {
   "cell_type": "code",
   "execution_count": null,
   "metadata": {},
   "outputs": [],
   "source": [
    "response = client.associate_qualification_with_worker(\n",
    "    QualificationTypeId='3TDQPWMDS7TBLNOOQ8U9BYDE3IBAN3',\n",
    "    WorkerId='A1DMXEJGJY02E1',\n",
    "    IntegerValue=1,\n",
    "    SendNotification=True\n",
    ")"
   ]
  },
  {
   "cell_type": "code",
   "execution_count": 62,
   "metadata": {},
   "outputs": [
    {
     "data": {
      "text/plain": [
       "{'AvailableBalance': '7.71',\n",
       " 'ResponseMetadata': {'RequestId': '04acb3f3-cf21-4738-9886-bc6827ba44f3',\n",
       "  'HTTPStatusCode': 200,\n",
       "  'HTTPHeaders': {'x-amzn-requestid': '04acb3f3-cf21-4738-9886-bc6827ba44f3',\n",
       "   'content-type': 'application/x-amz-json-1.1',\n",
       "   'content-length': '27',\n",
       "   'date': 'Fri, 13 Dec 2019 21:26:56 GMT'},\n",
       "  'RetryAttempts': 0}}"
      ]
     },
     "execution_count": 62,
     "metadata": {},
     "output_type": "execute_result"
    }
   ],
   "source": [
    "client.get_account_balance()"
   ]
  },
  {
   "cell_type": "code",
   "execution_count": 15,
   "metadata": {},
   "outputs": [
    {
     "data": {
      "text/plain": [
       "{'NotifyWorkersFailureStatuses': [],\n",
       " 'ResponseMetadata': {'RequestId': '83eee7f3-7db3-4e3f-b77e-7b034ceb2e60',\n",
       "  'HTTPStatusCode': 200,\n",
       "  'HTTPHeaders': {'x-amzn-requestid': '83eee7f3-7db3-4e3f-b77e-7b034ceb2e60',\n",
       "   'content-type': 'application/x-amz-json-1.1',\n",
       "   'content-length': '35',\n",
       "   'date': 'Tue, 10 Dec 2019 16:23:41 GMT'},\n",
       "  'RetryAttempts': 0}}"
      ]
     },
     "execution_count": 15,
     "metadata": {},
     "output_type": "execute_result"
    }
   ],
   "source": [
    "client.notify_workers(\n",
    "    Subject='Regarding Amazon Mechanical Turk HIT 3ZG552ORAM9611GLO7632M3T1BBV2Y',\n",
    "    MessageText='\\\\blablba \\n /n hey hey hey',\n",
    "    WorkerIds=['A1R5C4KJ0FELZQ']\n",
    ")"
   ]
  },
  {
   "cell_type": "code",
   "execution_count": 56,
   "metadata": {},
   "outputs": [
    {
     "data": {
      "text/plain": [
       "143"
      ]
     },
     "execution_count": 56,
     "metadata": {},
     "output_type": "execute_result"
    }
   ],
   "source": [
    "import pandas as pd\n",
    "qual = '../../data/mturk_samples/training_abstract/qualification_semantic.csv'\n",
    "\n",
    "df = pd.read_csv('../../data/mturk_samples/sample_abstract/qualifications/already_workers.csv', names=['ids'])\n",
    "list(df.ids)\n",
    "len(df)"
   ]
  },
  {
   "cell_type": "code",
   "execution_count": 58,
   "metadata": {},
   "outputs": [
    {
     "data": {
      "text/plain": [
       "{'NotifyWorkersFailureStatuses': [],\n",
       " 'ResponseMetadata': {'RequestId': '025e65ae-c1e0-46b2-b430-8b7ee8f083a7',\n",
       "  'HTTPStatusCode': 200,\n",
       "  'HTTPHeaders': {'x-amzn-requestid': '025e65ae-c1e0-46b2-b430-8b7ee8f083a7',\n",
       "   'content-type': 'application/x-amz-json-1.1',\n",
       "   'content-length': '35',\n",
       "   'date': 'Fri, 13 Dec 2019 15:34:48 GMT'},\n",
       "  'RetryAttempts': 0}}"
      ]
     },
     "execution_count": 58,
     "metadata": {},
     "output_type": "execute_result"
    }
   ],
   "source": [
    "\n",
    "client.notify_workers(\n",
    "    Subject='You are invited to judge more scatterplot data!',\n",
    "    MessageText=msg,\n",
    "    WorkerIds= list(df.loc[99:, 'ids']))"
   ]
  },
  {
   "cell_type": "code",
   "execution_count": 44,
   "metadata": {},
   "outputs": [
    {
     "data": {
      "text/plain": [
       "\"Hello, \\n Thank you for participating in the initial task about judging scatterplot data. \\n You are now invited to participate in the follow-up HITs available by clicking in the Qualifications Dashboard (https://worker.mturk.com/qualifications/assigned) on my name, Cristina Morariu.  \\n\\n You may answer as many HITs as you wish. \\n\\n We pay ~0.10$/minute, and all our tasks pay proportionally to this scale according to the average time it takes to complete the HIT. \\n For example, if the HIT takes on average 30 seconds to complete, we pay 0.05$/HIT. \\n \\n We're looking forward to the HITs you submit! \\n Best regards, \\n Cristina Morariu\""
      ]
     },
     "execution_count": 44,
     "metadata": {},
     "output_type": "execute_result"
    }
   ],
   "source": [
    "msg = ' '.join([\"Hello, \\n\", \n",
    "    \"Thank you for participating in the initial task about judging scatterplot data. \\n\",\n",
    "    \"You are now invited to participate in the follow-up HITs available by clicking in the\" ,\n",
    "    \"Qualifications Dashboard (https://worker.mturk.com/qualifications/assigned) on my name, Cristina Morariu.  \\n\\n\",\n",
    "    \"You may answer as many HITs as you wish. \\n\\n\",\n",
    "    \"We pay ~0.10$/minute, and all our tasks pay proportionally to this scale according\",\n",
    "    \"to the average time it takes to complete the HIT. \\n\" ,\n",
    "    \"For example, if the HIT takes on average 30 seconds to complete, we pay 0.05$/HIT. \\n \\n\", \n",
    "                \n",
    "    \"We're looking forward to the HITs you submit! \\n \"\n",
    "    \"Best regards, \\n Cristina Morariu\"])\n",
    "    \n",
    "msg"
   ]
  },
  {
   "cell_type": "code",
   "execution_count": 55,
   "metadata": {},
   "outputs": [
    {
     "data": {
      "text/plain": [
       "\"Hello, \\n Thank you for participating in the initial tasks about judging scatterplot data. \\n I am writing to let you know there are more HITs waiting at by clicking at the Qualifications Dashboard (https://worker.mturk.com/qualifications/assigned) on my name, Cristina Morariu.  \\n\\n You may answer as many HITs as you wish. \\n\\n We pay ~0.10$/minute, and all our tasks pay proportionally to this scale according to the average time it takes to complete the HIT. \\n For example, if the HIT takes on average 30 seconds to complete, we pay 0.05$/HIT. \\n \\n We're looking forward to the HITs you submit! \\n Best regards, \\n Cristina Morariu\""
      ]
     },
     "execution_count": 55,
     "metadata": {},
     "output_type": "execute_result"
    }
   ],
   "source": [
    "msg = ' '.join([\"Hello, \\n\", \n",
    "    \"Thank you for participating in the initial tasks about judging scatterplot data. \\n\",\n",
    "    \"I am writing to let you know there are more HITs waiting at by clicking at the\" ,\n",
    "    \"Qualifications Dashboard (https://worker.mturk.com/qualifications/assigned) on my name, Cristina Morariu.  \\n\\n\",\n",
    "    \"You may answer as many HITs as you wish. \\n\\n\",\n",
    "    \"We pay ~0.10$/minute, and all our tasks pay proportionally to this scale according\",\n",
    "    \"to the average time it takes to complete the HIT. \\n\" ,\n",
    "    \"For example, if the HIT takes on average 30 seconds to complete, we pay 0.05$/HIT. \\n \\n\", \n",
    "                \n",
    "    \"We're looking forward to the HITs you submit! \\n \"\n",
    "    \"Best regards, \\n Cristina Morariu\"])\n",
    "    \n",
    "msg"
   ]
  },
  {
   "cell_type": "code",
   "execution_count": null,
   "metadata": {},
   "outputs": [],
   "source": []
  }
 ],
 "metadata": {
  "kernelspec": {
   "display_name": "Python 3",
   "language": "python",
   "name": "python3"
  },
  "language_info": {
   "codemirror_mode": {
    "name": "ipython",
    "version": 3
   },
   "file_extension": ".py",
   "mimetype": "text/x-python",
   "name": "python",
   "nbconvert_exporter": "python",
   "pygments_lexer": "ipython3",
   "version": "3.7.4"
  }
 },
 "nbformat": 4,
 "nbformat_minor": 2
}
