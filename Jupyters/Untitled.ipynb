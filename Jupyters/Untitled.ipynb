{
 "cells": [
  {
   "cell_type": "code",
   "execution_count": 48,
   "metadata": {},
   "outputs": [
    {
     "name": "stdout",
     "output_type": "stream",
     "text": [
      "Number of processors:  8\n"
     ]
    },
    {
     "data": {
      "text/plain": [
       "'/Users/morarica/Developer/SepMe/Jupyters'"
      ]
     },
     "execution_count": 48,
     "metadata": {},
     "output_type": "execute_result"
    }
   ],
   "source": [
    "import pandas as pd\n",
    "import numpy as np\n",
    "import yaml\n",
    "import json\n",
    "import os\n",
    "from flatten_dict import unflatten, flatten\n",
    "\n",
    "import multiprocessing as mp\n",
    "print(\"Number of processors: \", mp.cpu_count())\n",
    "os.getcwd()"
   ]
  },
  {
   "cell_type": "code",
   "execution_count": 49,
   "metadata": {},
   "outputs": [
    {
     "data": {
      "text/html": [
       "<div>\n",
       "<style scoped>\n",
       "    .dataframe tbody tr th:only-of-type {\n",
       "        vertical-align: middle;\n",
       "    }\n",
       "\n",
       "    .dataframe tbody tr th {\n",
       "        vertical-align: top;\n",
       "    }\n",
       "\n",
       "    .dataframe thead th {\n",
       "        text-align: right;\n",
       "    }\n",
       "</style>\n",
       "<table border=\"1\" class=\"dataframe\">\n",
       "  <thead>\n",
       "    <tr style=\"text-align: right;\">\n",
       "      <th></th>\n",
       "      <th>indexFile</th>\n",
       "      <th>indexDR</th>\n",
       "      <th>classNum</th>\n",
       "      <th>scoreA</th>\n",
       "      <th>scoreM</th>\n",
       "      <th>scoreDes</th>\n",
       "      <th>DSC</th>\n",
       "      <th>CAL</th>\n",
       "      <th>HM</th>\n",
       "      <th>LDA</th>\n",
       "      <th>...</th>\n",
       "      <th>DC 20%</th>\n",
       "      <th>HDM 80</th>\n",
       "      <th>DC 2%</th>\n",
       "      <th>DUNN</th>\n",
       "      <th>DC 1%</th>\n",
       "      <th>DC 0.5%</th>\n",
       "      <th>CDM 1</th>\n",
       "      <th>DC 0.2%</th>\n",
       "      <th>DC 0.1%</th>\n",
       "      <th>AWTN</th>\n",
       "    </tr>\n",
       "    <tr>\n",
       "      <th>fileName</th>\n",
       "      <th></th>\n",
       "      <th></th>\n",
       "      <th></th>\n",
       "      <th></th>\n",
       "      <th></th>\n",
       "      <th></th>\n",
       "      <th></th>\n",
       "      <th></th>\n",
       "      <th></th>\n",
       "      <th></th>\n",
       "      <th></th>\n",
       "      <th></th>\n",
       "      <th></th>\n",
       "      <th></th>\n",
       "      <th></th>\n",
       "      <th></th>\n",
       "      <th></th>\n",
       "      <th></th>\n",
       "      <th></th>\n",
       "      <th></th>\n",
       "      <th></th>\n",
       "    </tr>\n",
       "  </thead>\n",
       "  <tbody>\n",
       "    <tr>\n",
       "      <th>Entangled1-3d-3cl-separate_PCA_data.csv</th>\n",
       "      <td>1</td>\n",
       "      <td>1</td>\n",
       "      <td>1</td>\n",
       "      <td>5</td>\n",
       "      <td>4</td>\n",
       "      <td>1</td>\n",
       "      <td>83.946488</td>\n",
       "      <td>168.392790</td>\n",
       "      <td>85.211464</td>\n",
       "      <td>0.233286</td>\n",
       "      <td>...</td>\n",
       "      <td>56.800376</td>\n",
       "      <td>99.775785</td>\n",
       "      <td>93.433032</td>\n",
       "      <td>0.003952</td>\n",
       "      <td>98.920474</td>\n",
       "      <td>99.934515</td>\n",
       "      <td>88.151433</td>\n",
       "      <td>100.000000</td>\n",
       "      <td>100.0</td>\n",
       "      <td>330.792098</td>\n",
       "    </tr>\n",
       "    <tr>\n",
       "      <th>Entangled1-3d-3cl-separate_PCA_data.csv</th>\n",
       "      <td>1</td>\n",
       "      <td>1</td>\n",
       "      <td>2</td>\n",
       "      <td>5</td>\n",
       "      <td>4</td>\n",
       "      <td>1</td>\n",
       "      <td>81.438127</td>\n",
       "      <td>202.032855</td>\n",
       "      <td>83.724674</td>\n",
       "      <td>0.574045</td>\n",
       "      <td>...</td>\n",
       "      <td>54.498185</td>\n",
       "      <td>99.439462</td>\n",
       "      <td>92.019047</td>\n",
       "      <td>0.003344</td>\n",
       "      <td>98.654829</td>\n",
       "      <td>99.904137</td>\n",
       "      <td>81.307295</td>\n",
       "      <td>99.999407</td>\n",
       "      <td>100.0</td>\n",
       "      <td>327.474607</td>\n",
       "    </tr>\n",
       "  </tbody>\n",
       "</table>\n",
       "<p>2 rows × 41 columns</p>\n",
       "</div>"
      ],
      "text/plain": [
       "                                         indexFile  indexDR  classNum  scoreA  \\\n",
       "fileName                                                                        \n",
       "Entangled1-3d-3cl-separate_PCA_data.csv          1        1         1       5   \n",
       "Entangled1-3d-3cl-separate_PCA_data.csv          1        1         2       5   \n",
       "\n",
       "                                         scoreM  scoreDes        DSC  \\\n",
       "fileName                                                               \n",
       "Entangled1-3d-3cl-separate_PCA_data.csv       4         1  83.946488   \n",
       "Entangled1-3d-3cl-separate_PCA_data.csv       4         1  81.438127   \n",
       "\n",
       "                                                CAL         HM       LDA  ...  \\\n",
       "fileName                                                                  ...   \n",
       "Entangled1-3d-3cl-separate_PCA_data.csv  168.392790  85.211464  0.233286  ...   \n",
       "Entangled1-3d-3cl-separate_PCA_data.csv  202.032855  83.724674  0.574045  ...   \n",
       "\n",
       "                                            DC 20%     HDM 80      DC 2%  \\\n",
       "fileName                                                                   \n",
       "Entangled1-3d-3cl-separate_PCA_data.csv  56.800376  99.775785  93.433032   \n",
       "Entangled1-3d-3cl-separate_PCA_data.csv  54.498185  99.439462  92.019047   \n",
       "\n",
       "                                             DUNN      DC 1%    DC 0.5%  \\\n",
       "fileName                                                                  \n",
       "Entangled1-3d-3cl-separate_PCA_data.csv  0.003952  98.920474  99.934515   \n",
       "Entangled1-3d-3cl-separate_PCA_data.csv  0.003344  98.654829  99.904137   \n",
       "\n",
       "                                             CDM 1     DC 0.2%  DC 0.1%  \\\n",
       "fileName                                                                  \n",
       "Entangled1-3d-3cl-separate_PCA_data.csv  88.151433  100.000000    100.0   \n",
       "Entangled1-3d-3cl-separate_PCA_data.csv  81.307295   99.999407    100.0   \n",
       "\n",
       "                                               AWTN  \n",
       "fileName                                             \n",
       "Entangled1-3d-3cl-separate_PCA_data.csv  330.792098  \n",
       "Entangled1-3d-3cl-separate_PCA_data.csv  327.474607  \n",
       "\n",
       "[2 rows x 41 columns]"
      ]
     },
     "execution_count": 49,
     "metadata": {},
     "output_type": "execute_result"
    }
   ],
   "source": [
    "df = pd.read_csv('/Users/morarica/Developer/SepMe/data/RESULTS_EUROVIS2015.csv', index_col=0)\n",
    "df.head(2)"
   ]
  },
  {
   "cell_type": "code",
   "execution_count": 52,
   "metadata": {},
   "outputs": [
    {
     "data": {
      "text/plain": [
       "[[5, 1, 5, 0, 5],\n",
       " [9, 0, 0, 5, 1],\n",
       " [0, 5, 0, 9, 5],\n",
       " [6, 7, 6, 3, 6],\n",
       " [1, 5, 4, 5, 3]]"
      ]
     },
     "execution_count": 52,
     "metadata": {},
     "output_type": "execute_result"
    }
   ],
   "source": [
    "np.random.RandomState(100)\n",
    "arr = np.random.randint(0, 10, size=[200000, 5])\n",
    "data = arr.tolist()\n",
    "data[:5]"
   ]
  },
  {
   "cell_type": "code",
   "execution_count": 54,
   "metadata": {},
   "outputs": [
    {
     "name": "stdout",
     "output_type": "stream",
     "text": [
      "   0  1\n",
      "0  4  5\n",
      "1  8  8\n",
      "2  8  9\n",
      "3  9  8\n",
      "4  8  6\n"
     ]
    }
   ],
   "source": [
    "df = pd.DataFrame(np.random.randint(3, 10, size=[5, 2]))\n",
    "print(df)"
   ]
  },
  {
   "cell_type": "code",
   "execution_count": 1,
   "metadata": {
    "scrolled": true
   },
   "outputs": [
    {
     "name": "stderr",
     "output_type": "stream",
     "text": [
      "2019-09-26 15:47:13,396\tWARNING worker.py:1426 -- WARNING: Not updating worker name since `setproctitle` is not installed. Install this with `pip install setproctitle` (or ray[debug]) to enable monitoring of worker processes.\n",
      "2019-09-26 15:47:13,398\tINFO resource_spec.py:205 -- Starting Ray with 3.32 GiB memory available for workers and up to 1.66 GiB for objects. You can adjust these settings with ray.init(memory=<bytes>, object_store_memory=<bytes>).\n"
     ]
    },
    {
     "data": {
      "text/plain": [
       "{'node_ip_address': '129.69.205.213',\n",
       " 'redis_address': '129.69.205.213:43109',\n",
       " 'object_store_address': '/tmp/ray/session_2019-09-26_15-47-13_397363_69373/sockets/plasma_store',\n",
       " 'raylet_socket_name': '/tmp/ray/session_2019-09-26_15-47-13_397363_69373/sockets/raylet',\n",
       " 'webui_url': None,\n",
       " 'session_dir': '/tmp/ray/session_2019-09-26_15-47-13_397363_69373'}"
      ]
     },
     "execution_count": 1,
     "metadata": {},
     "output_type": "execute_result"
    }
   ],
   "source": [
    "import ray\n",
    "ray.init()"
   ]
  },
  {
   "cell_type": "code",
   "execution_count": 2,
   "metadata": {},
   "outputs": [],
   "source": [
    "import psutil"
   ]
  },
  {
   "cell_type": "code",
   "execution_count": 3,
   "metadata": {},
   "outputs": [
    {
     "data": {
      "text/plain": [
       "8"
      ]
     },
     "execution_count": 3,
     "metadata": {},
     "output_type": "execute_result"
    }
   ],
   "source": [
    "psutil.cpu_count()"
   ]
  },
  {
   "cell_type": "code",
   "execution_count": null,
   "metadata": {},
   "outputs": [],
   "source": []
  }
 ],
 "metadata": {
  "kernelspec": {
   "display_name": "Python 3",
   "language": "python",
   "name": "python3"
  },
  "language_info": {
   "codemirror_mode": {
    "name": "ipython",
    "version": 3
   },
   "file_extension": ".py",
   "mimetype": "text/x-python",
   "name": "python",
   "nbconvert_exporter": "python",
   "pygments_lexer": "ipython3",
   "version": "3.7.4"
  }
 },
 "nbformat": 4,
 "nbformat_minor": 2
}
