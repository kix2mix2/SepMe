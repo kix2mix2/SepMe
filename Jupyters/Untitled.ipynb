{
 "cells": [
  {
   "cell_type": "code",
   "execution_count": 6,
   "metadata": {},
   "outputs": [
    {
     "name": "stderr",
     "output_type": "stream",
     "text": [
      "2019-10-30 13:50:56,834\tWARNING worker.py:1268 -- WARNING: Not updating worker name since `setproctitle` is not installed. Install this with `pip install setproctitle` (or ray[debug]) to enable monitoring of worker processes.\n",
      "2019-10-30 13:50:56,837\tINFO resource_spec.py:205 -- Starting Ray with 4.35 GiB memory available for workers and up to 2.19 GiB for objects. You can adjust these settings with ray.init(memory=<bytes>, object_store_memory=<bytes>).\n"
     ]
    },
    {
     "name": "stdout",
     "output_type": "stream",
     "text": [
      "Success! The example took 1.0194110870361328 seconds.\n"
     ]
    }
   ],
   "source": [
    "# The goal of this exercise is to show how to run simple tasks in parallel.\n",
    "#\n",
    "# EXERCISE: This script is too slow, and the computation is embarrassingly\n",
    "# parallel. Use Ray to execute the functions in parallel to speed it up.\n",
    "#\n",
    "# NOTE: This exercise should work even if you have only one core on your\n",
    "# machine because the function that we're parallelizing is just sleeping.\n",
    "# However, in general you would not expect a larger speedup than the number of\n",
    "# cores on the machine.\n",
    "\n",
    "from __future__ import absolute_import\n",
    "from __future__ import division\n",
    "from __future__ import print_function\n",
    "\n",
    "import ray\n",
    "import time\n",
    "\n",
    "\n",
    "if __name__ == \"__main__\":\n",
    "    # Start Ray. By default, Ray does not schedule more tasks concurrently than\n",
    "    # there are CPUs. This example requires four tasks to run concurrently, so we\n",
    "    # tell Ray that there are four CPUs. Usually this is not done and Ray\n",
    "    # computes the number of CPUs using psutil.cpu_count(). The argument\n",
    "    # redirect_output=True just hides some logging.\n",
    "    ray.init(num_cpus=4, redirect_output=True)\n",
    "\n",
    "    # This function is a proxy for a more interesting and computationally\n",
    "    # intensive function.\n",
    "    @ray.remote\n",
    "    def slow_function(i):\n",
    "        time.sleep(1)\n",
    "        return i\n",
    "\n",
    "    # Sleep a little to improve the accuracy of the timing measurements below.\n",
    "    time.sleep(2.0)\n",
    "    start_time = time.time()\n",
    "\n",
    "    # This loop is too slow. The calls to slow_function should happen in\n",
    "    # parallel.\n",
    "    results = []\n",
    "    for i in range(4):\n",
    "        results.append(slow_function.remote(i))\n",
    "\n",
    "    results = ray.get(results)\n",
    "\n",
    "    end_time = time.time()\n",
    "    duration = end_time - start_time\n",
    "\n",
    "    assert results == [0, 1, 2, 3]\n",
    "    assert duration < 1.1, (\"The loop took {} seconds. This is too slow.\"\n",
    "                          .format(duration))\n",
    "\n",
    "    print(\"Success! The example took {} seconds.\".format(duration))"
   ]
  },
  {
   "cell_type": "code",
   "execution_count": null,
   "metadata": {},
   "outputs": [],
   "source": []
  }
 ],
 "metadata": {
  "kernelspec": {
   "display_name": "Python 3",
   "language": "python",
   "name": "python3"
  },
  "language_info": {
   "codemirror_mode": {
    "name": "ipython",
    "version": 3
   },
   "file_extension": ".py",
   "mimetype": "text/x-python",
   "name": "python",
   "nbconvert_exporter": "python",
   "pygments_lexer": "ipython3",
   "version": "3.7.4"
  }
 },
 "nbformat": 4,
 "nbformat_minor": 2
}
